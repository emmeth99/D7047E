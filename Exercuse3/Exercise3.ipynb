{
 "cells": [
  {
   "cell_type": "code",
   "execution_count": 22,
   "metadata": {},
   "outputs": [],
   "source": [
    "import tensorflow as tf\n",
    "\n",
    "from tensorflow.keras import datasets, layers, models\n",
    "from keras.layers import LeakyReLU\n",
    "import matplotlib.pyplot as plt"
   ]
  },
  {
   "cell_type": "code",
   "execution_count": 23,
   "metadata": {},
   "outputs": [],
   "source": [
    "model_sgd = models.Sequential()\n",
    "model_sgd.add(layers.Conv2D(32, (3, 3), activation='LeakyReLU', input_shape=(32, 32, 3)))\n",
    "model_sgd.add(layers.MaxPooling2D((2, 2)))\n",
    "model_sgd.add(layers.Conv2D(64, (3, 3), activation='LeakyReLU'))\n",
    "model_sgd.add(layers.MaxPooling2D((2, 2)))\n",
    "model_sgd.add(layers.Conv2D(64, (3, 3), activation='LeakyReLU'))\n",
    "\n",
    "model_sgd.add(layers.Flatten())\n",
    "model_sgd.add(layers.Dense(64, activation='LeakyReLU'))\n",
    "model_sgd.add(layers.Dense(10))"
   ]
  }
 ],
 "metadata": {
  "interpreter": {
   "hash": "ffb6baedebf6957ac36c66a06d806fe87b8bfbad768888f61612b8fcf4c95baf"
  },
  "kernelspec": {
   "display_name": "Python 3.7.6 64-bit",
   "language": "python",
   "name": "python3"
  },
  "language_info": {
   "codemirror_mode": {
    "name": "ipython",
    "version": 3
   },
   "file_extension": ".py",
   "mimetype": "text/x-python",
   "name": "python",
   "nbconvert_exporter": "python",
   "pygments_lexer": "ipython3",
   "version": "3.7.6"
  },
  "orig_nbformat": 4
 },
 "nbformat": 4,
 "nbformat_minor": 2
}

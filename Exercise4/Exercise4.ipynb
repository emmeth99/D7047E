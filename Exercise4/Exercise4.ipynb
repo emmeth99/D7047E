{
 "cells": [
  {
   "cell_type": "markdown",
   "metadata": {},
   "source": [
    "TASK 1"
   ]
  },
  {
   "cell_type": "code",
   "execution_count": 15,
   "metadata": {},
   "outputs": [],
   "source": [
    "import torch\n",
    "import torch.nn as nn\n",
    "from torch.autograd import Variable\n",
    "import argparse\n",
    "import os\n",
    "import matplotlib.pyplot as plt\n",
    "\n",
    "from tqdm import tqdm\n",
    "\n",
    "from helpers import *\n",
    "from model import *\n",
    "from generate import *"
   ]
  },
  {
   "cell_type": "code",
   "execution_count": 23,
   "metadata": {},
   "outputs": [],
   "source": [
    "file, file_len = read_file(\"shakespeare.txt\")\n",
    "\n",
    "model = \"gru\"\n",
    "n_epochs = 1000\n",
    "print_every = 100\n",
    "hidden_size = 50\n",
    "n_layers = 2\n",
    "learning_rate = 0.01\n",
    "chunk_len = 200\n",
    "batch_size = 100\n",
    "cuda = False\n"
   ]
  },
  {
   "cell_type": "code",
   "execution_count": 24,
   "metadata": {},
   "outputs": [],
   "source": [
    "def random_training_set(chunk_len, batch_size):\n",
    "    inp = torch.LongTensor(batch_size, chunk_len)\n",
    "    target = torch.LongTensor(batch_size, chunk_len)\n",
    "    for bi in range(batch_size):\n",
    "        start_index = random.randint(0, file_len - chunk_len)\n",
    "        end_index = start_index + chunk_len + 1\n",
    "        chunk = file[start_index:end_index]\n",
    "        inp[bi] = char_tensor(chunk[:-1])\n",
    "        target[bi] = char_tensor(chunk[1:])\n",
    "    inp = Variable(inp)\n",
    "    target = Variable(target)\n",
    "    if cuda:\n",
    "        inp = inp.cuda()\n",
    "        target = target.cuda()\n",
    "    return inp, target\n",
    "\n",
    "def train(inp, target):\n",
    "    hidden = decoder.init_hidden(batch_size)\n",
    "    if cuda:\n",
    "        hidden = hidden.cuda()\n",
    "    decoder.zero_grad()\n",
    "    loss = 0\n",
    "\n",
    "    for c in range(chunk_len):\n",
    "        output, hidden = decoder(inp[:,c], hidden)\n",
    "        loss += criterion(output.view(batch_size, -1), target[:,c])\n",
    "\n",
    "    loss.backward()\n",
    "    decoder_optimizer.step()\n",
    "\n",
    "    return loss.data.item() / chunk_len\n",
    "\n",
    "def save():\n",
    "    save_filename = os.path.splitext(os.path.basename(\"shakespeare\"))[0] + '.pt'\n",
    "    torch.save(decoder, save_filename)\n",
    "    print('Saved as %s' % save_filename)\n",
    "\n"
   ]
  },
  {
   "cell_type": "code",
   "execution_count": 25,
   "metadata": {},
   "outputs": [
    {
     "name": "stdout",
     "output_type": "stream",
     "text": [
      "Training for 1000 epochs...\n"
     ]
    },
    {
     "name": "stderr",
     "output_type": "stream",
     "text": [
      " 10%|█         | 100/1000 [01:08<10:23,  1.44it/s]"
     ]
    },
    {
     "name": "stdout",
     "output_type": "stream",
     "text": [
      "[1m 8s (100 10%) 2.0724]\n",
      "Whort me fold I of four.\n",
      "\n",
      "MUCHIANGS INES:\n",
      "O to as loed that thigh the and your gill have malow a sweav \n",
      "\n"
     ]
    },
    {
     "name": "stderr",
     "output_type": "stream",
     "text": [
      " 20%|██        | 200/1000 [02:16<09:13,  1.45it/s]"
     ]
    },
    {
     "name": "stdout",
     "output_type": "stream",
     "text": [
      "[2m 16s (200 20%) 1.8071]\n",
      "What disting?\n",
      "\n",
      "PETRUTTIS:\n",
      "You hastengue me, groperforest\n",
      "To he sow;\n",
      "My all the propectuceland, this se \n",
      "\n"
     ]
    },
    {
     "name": "stderr",
     "output_type": "stream",
     "text": [
      " 30%|███       | 300/1000 [03:24<08:04,  1.44it/s]"
     ]
    },
    {
     "name": "stdout",
     "output_type": "stream",
     "text": [
      "[3m 24s (300 30%) 1.7073]\n",
      "Whe sir.\n",
      "\n",
      "CARDWAnd with to world wor: freas man the beseard upon the appiress stand of or thy him: of  \n",
      "\n"
     ]
    },
    {
     "name": "stderr",
     "output_type": "stream",
     "text": [
      " 40%|████      | 400/1000 [04:32<06:52,  1.46it/s]"
     ]
    },
    {
     "name": "stdout",
     "output_type": "stream",
     "text": [
      "[4m 32s (400 40%) 1.6616]\n",
      "Whone to do in soar,\n",
      "Would he lies to have sir, it in bearth fither the beat, must you efrienditrus al \n",
      "\n"
     ]
    },
    {
     "name": "stderr",
     "output_type": "stream",
     "text": [
      " 50%|█████     | 500/1000 [05:41<06:11,  1.35it/s]"
     ]
    },
    {
     "name": "stdout",
     "output_type": "stream",
     "text": [
      "[5m 41s (500 50%) 1.6441]\n",
      "Which the of him.\n",
      "The gavion in of her lord:\n",
      "For me you are, their bla, sorful not's a missice, daid,  \n",
      "\n"
     ]
    },
    {
     "name": "stderr",
     "output_type": "stream",
     "text": [
      " 60%|██████    | 600/1000 [06:51<04:43,  1.41it/s]"
     ]
    },
    {
     "name": "stdout",
     "output_type": "stream",
     "text": [
      "[6m 51s (600 60%) 1.6076]\n",
      "Which that is to now the trusce\n",
      "I'll lord.\n",
      "\n",
      "NORTHUMBERLAND:\n",
      "A since like all as I have thou din's have \n",
      "\n"
     ]
    },
    {
     "name": "stderr",
     "output_type": "stream",
     "text": [
      " 70%|███████   | 700/1000 [08:00<03:28,  1.44it/s]"
     ]
    },
    {
     "name": "stdout",
     "output_type": "stream",
     "text": [
      "[8m 0s (700 70%) 1.6073]\n",
      "What, I war! sere and he amers. Here in me a farther,\n",
      "Dell the pain he is of herous no, peouse, my wor \n",
      "\n"
     ]
    },
    {
     "name": "stderr",
     "output_type": "stream",
     "text": [
      " 80%|████████  | 800/1000 [09:08<02:20,  1.42it/s]"
     ]
    },
    {
     "name": "stdout",
     "output_type": "stream",
     "text": [
      "[9m 8s (800 80%) 1.6052]\n",
      "What my finest in my honour,\n",
      "And all staid you a took the did for the cend.\n",
      "\n",
      "First shall then hath muc \n",
      "\n"
     ]
    },
    {
     "name": "stderr",
     "output_type": "stream",
     "text": [
      " 90%|█████████ | 900/1000 [10:16<01:08,  1.46it/s]"
     ]
    },
    {
     "name": "stdout",
     "output_type": "stream",
     "text": [
      "[10m 16s (900 90%) 1.5762]\n",
      "Whom not never did king: you and execution.\n",
      "\n",
      "KING RICHARD III:\n",
      "Yet and a have his time?\n",
      "\n",
      "PERDITA:\n",
      "Of y \n",
      "\n"
     ]
    },
    {
     "name": "stderr",
     "output_type": "stream",
     "text": [
      "100%|██████████| 1000/1000 [11:25<00:00,  1.46it/s]"
     ]
    },
    {
     "name": "stdout",
     "output_type": "stream",
     "text": [
      "[11m 25s (1000 100%) 1.5862]\n",
      "Whar our strangelly.\n",
      "\n",
      "KING RICHARD III:\n",
      "I woe with make onage, the appy shall:\n",
      "Unlies in the slays and \n",
      "\n",
      "Saving...\n",
      "Saved as shakespeare.pt\n"
     ]
    },
    {
     "name": "stderr",
     "output_type": "stream",
     "text": [
      "\n"
     ]
    },
    {
     "data": {
      "image/png": "[encoded data removed]",
      "text/plain": [
       "<Figure size 432x288 with 1 Axes>"
      ]
     },
     "metadata": {
      "needs_background": "light"
     },
     "output_type": "display_data"
    }
   ],
   "source": [
    "\n",
    "# Initialize models and start training\n",
    "\n",
    "\n",
    "decoder = CharRNN(\n",
    "    n_characters,\n",
    "    hidden_size,\n",
    "    n_characters,\n",
    "    model=model,\n",
    "    n_layers=n_layers,\n",
    ")\n",
    "decoder_optimizer = torch.optim.Adam(decoder.parameters(), lr=learning_rate)\n",
    "criterion = nn.CrossEntropyLoss()\n",
    "\n",
    "if cuda:\n",
    "    decoder.cuda()\n",
    "\n",
    "start = time.time()\n",
    "all_losses = []\n",
    "loss_avg = 0\n",
    "perplexities = []\n",
    "try:\n",
    "    print(\"Training for %d epochs...\" % n_epochs)\n",
    "    for epoch in tqdm(range(1, n_epochs + 1)):\n",
    "        loss = train(*random_training_set(chunk_len, batch_size))\n",
    "        loss_avg += loss\n",
    "        perplexities.append(math.exp(loss))\n",
    "\n",
    "        if epoch % print_every == 0:\n",
    "            print('[%s (%d %d%%) %.4f]' % (time_since(start), epoch, epoch / n_epochs * 100, loss))\n",
    "            print(generate(decoder, 'Wh', 100, cuda=cuda), '\\n')\n",
    "\n",
    "    print(\"Saving...\")\n",
    "    save()\n",
    "except KeyboardInterrupt:\n",
    "    print(\"Saving before quit...\")\n",
    "    save()\n",
    "\n",
    "plt.plot(perplexities)\n",
    "plt.ylabel('Perplexity')\n",
    "plt.xlabel('Epoch')\n",
    "plt.show()"
   ]
  },
  {
   "cell_type": "code",
   "execution_count": 26,
   "metadata": {},
   "outputs": [],
   "source": [
    "def generate(decoder, prime_str='A', predict_len=100, temperature=0.8, cuda=False):\n",
    "    hidden = decoder.init_hidden(1)\n",
    "    prime_input = Variable(char_tensor(prime_str).unsqueeze(0))\n",
    "\n",
    "    if cuda:\n",
    "        hidden = hidden.cuda()\n",
    "        prime_input = prime_input.cuda()\n",
    "    predicted = prime_str\n",
    "\n",
    "    # Use priming string to \"build up\" hidden state\n",
    "    for p in range(len(prime_str) - 1):\n",
    "        _, hidden = decoder(prime_input[:,p], hidden)\n",
    "        \n",
    "    inp = prime_input[:,-1]\n",
    "    \n",
    "    for p in range(predict_len):\n",
    "        output, hidden = decoder(inp, hidden)\n",
    "        \n",
    "        # Sample from the network as a multinomial distribution\n",
    "        output_dist = output.data.view(-1).div(temperature).exp()\n",
    "        top_i = torch.multinomial(output_dist, 1)[0]\n",
    "\n",
    "        # Add predicted character to string and use as next input\n",
    "        predicted_char = all_characters[top_i]\n",
    "        predicted += predicted_char\n",
    "        inp = Variable(char_tensor(predicted_char).unsqueeze(0))\n",
    "        if cuda:\n",
    "            inp = inp.cuda()\n",
    "\n",
    "    return predicted"
   ]
  },
  {
   "cell_type": "markdown",
   "metadata": {},
   "source": [
    "TASK 2"
   ]
  },
  {
   "cell_type": "code",
   "execution_count": 27,
   "metadata": {},
   "outputs": [],
   "source": [
    "import string\n",
    "import random\n",
    "\n",
    "def randomString(len):\n",
    "    s = \"\"\n",
    "    for i in range(len):\n",
    "        s = s + random.choice(string.printable)\n",
    "    return s"
   ]
  },
  {
   "cell_type": "code",
   "execution_count": 67,
   "metadata": {},
   "outputs": [
    {
     "name": "stdout",
     "output_type": "stream",
     "text": [
      "Prime string: ?h)Qc\n",
      "?h)Qck, I am revouchay see, for laid,\n",
      "Is bread against Rome me that betal stand viles of him,\n",
      "When in thy\n"
     ]
    }
   ],
   "source": [
    "dc = torch.load(\"shakespeare.pt\")\n",
    "prime_string = randomString(5)\n",
    "print(\"Prime string:\",prime_string)\n",
    "print(generate(decoder, prime_str=prime_string))"
   ]
  },
  {
   "cell_type": "code",
   "execution_count": 68,
   "metadata": {},
   "outputs": [
    {
     "name": "stdout",
     "output_type": "stream",
     "text": [
      "Prime string: f=r0X\n",
      "f=r0X\n",
      "\n",
      "DUKE VINCENTIO:\n",
      "Give the kings think wery sister's give officers.\n",
      "\n",
      "ISABELLA:\n",
      "But the more fast as \n"
     ]
    }
   ],
   "source": [
    "dc = torch.load(\"shakespeare.pt\")\n",
    "prime_string = randomString(5)\n",
    "print(\"Prime string:\",prime_string)\n",
    "print(generate(decoder, prime_str=prime_string, temperature=0.8))"
   ]
  },
  {
   "cell_type": "code",
   "execution_count": 69,
   "metadata": {},
   "outputs": [
    {
     "name": "stdout",
     "output_type": "stream",
     "text": [
      "Prime string: -/T\u000b+\n",
      "-/T\u000b+kecked me proice, I way be never war us\n",
      "Mad beseay young my broy degue the pard.\n",
      "\n",
      "TRANIO:\n",
      "\n",
      "POMPEY:\n",
      "I\n"
     ]
    }
   ],
   "source": [
    "dc = torch.load(\"shakespeare.pt\")\n",
    "prime_string = randomString(5)\n",
    "print(\"Prime string:\",prime_string)\n",
    "print(generate(decoder, prime_str=prime_string))"
   ]
  },
  {
   "cell_type": "markdown",
   "metadata": {},
   "source": [
    "TASK 3"
   ]
  },
  {
   "cell_type": "code",
   "execution_count": 70,
   "metadata": {},
   "outputs": [
    {
     "name": "stdout",
     "output_type": "stream",
     "text": [
      "Prime string: The\n",
      "Thepherd with of man-now,\n",
      "No courter from been and the royond; and a tone very know the day\n",
      "Ib may stil\n"
     ]
    }
   ],
   "source": [
    "dc = torch.load(\"shakespeare.pt\")\n",
    "prime_string = \"The\"\n",
    "print(\"Prime string:\",prime_string)\n",
    "print(generate(decoder, prime_str=prime_string))"
   ]
  },
  {
   "cell_type": "code",
   "execution_count": 71,
   "metadata": {},
   "outputs": [
    {
     "name": "stdout",
     "output_type": "stream",
     "text": [
      "Prime string: What is\n",
      "What is me plains with ared\n",
      "When whese house I; 'leseon and more,\n",
      "And proke's okest the now: the fear moria\n"
     ]
    }
   ],
   "source": [
    "dc = torch.load(\"shakespeare.pt\")\n",
    "prime_string = \"What is\"\n",
    "print(\"Prime string:\",prime_string)\n",
    "print(generate(decoder, prime_str=prime_string))"
   ]
  },
  {
   "cell_type": "code",
   "execution_count": 72,
   "metadata": {},
   "outputs": [
    {
     "name": "stdout",
     "output_type": "stream",
     "text": [
      "Prime string: Shall I give\n",
      "Shall I giveth to the pounties to\n",
      "scomplaintle renupe the beoul, and Kather and about? and it.\n",
      "\n",
      "First Greest as \n"
     ]
    }
   ],
   "source": [
    "dc = torch.load(\"shakespeare.pt\")\n",
    "prime_string = \"Shall I give\"\n",
    "print(\"Prime string:\",prime_string)\n",
    "print(generate(decoder, prime_str=prime_string))"
   ]
  },
  {
   "cell_type": "code",
   "execution_count": 73,
   "metadata": {},
   "outputs": [
    {
     "name": "stdout",
     "output_type": "stream",
     "text": [
      "Prime string: X087hNYB BHN BYFVuhsdbs\n",
      "X087hNYB BHN BYFVuhsdbs yets in that our hear the down\n",
      "To brows made from me see the she weaven walk\n",
      "Hath liberting the has\n"
     ]
    }
   ],
   "source": [
    "dc = torch.load(\"shakespeare.pt\")\n",
    "prime_string = \"X087hNYB BHN BYFVuhsdbs\"\n",
    "print(\"Prime string:\",prime_string)\n",
    "print(generate(decoder, prime_str=prime_string))"
   ]
  },
  {
   "cell_type": "markdown",
   "metadata": {},
   "source": [
    "Task 4"
   ]
  },
  {
   "cell_type": "code",
   "execution_count": null,
   "metadata": {},
   "outputs": [],
   "source": []
  },
  {
   "cell_type": "code",
   "execution_count": null,
   "metadata": {},
   "outputs": [],
   "source": []
  }
 ],
 "metadata": {
  "interpreter": {
   "hash": "ca7165b3874c121c9f63e9490792d5288fe8335c417634071cb2f60b95a24850"
  },
  "kernelspec": {
   "display_name": "Python 3.9.1 64-bit",
   "language": "python",
   "name": "python3"
  },
  "language_info": {
   "codemirror_mode": {
    "name": "ipython",
    "version": 3
   },
   "file_extension": ".py",
   "mimetype": "text/x-python",
   "name": "python",
   "nbconvert_exporter": "python",
   "pygments_lexer": "ipython3",
   "version": "3.9.1"
  },
  "orig_nbformat": 4
 },
 "nbformat": 4,
 "nbformat_minor": 2
}

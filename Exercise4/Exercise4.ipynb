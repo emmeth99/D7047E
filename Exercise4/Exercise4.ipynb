{
 "cells": [
  {
   "cell_type": "code",
   "execution_count": 2,
   "metadata": {},
   "outputs": [
    {
     "name": "stderr",
     "output_type": "stream",
     "text": [
      "C:\\Users\\joska\\AppData\\Local\\Programs\\Python\\Python37\\lib\\site-packages\\tqdm\\auto.py:22: TqdmWarning: IProgress not found. Please update jupyter and ipywidgets. See https://ipywidgets.readthedocs.io/en/stable/user_install.html\n",
      "  from .autonotebook import tqdm as notebook_tqdm\n"
     ]
    }
   ],
   "source": [
    "import torch\n",
    "import torch.nn as nn\n",
    "from torch.autograd import Variable\n",
    "import unidecode\n",
    "import string\n",
    "import random\n",
    "import time\n",
    "import math\n",
    "import os\n",
    "import argparse\n",
    "\n",
    "import matplotlib.pyplot as plt\n",
    "\n",
    "from tqdm import tqdm"
   ]
  },
  {
   "cell_type": "code",
   "execution_count": 4,
   "metadata": {},
   "outputs": [],
   "source": [
    "# Reading and un-unicode-encoding data\n",
    "\n",
    "all_characters = string.printable\n",
    "n_characters = len(all_characters)\n",
    "\n",
    "def read_file(filename):\n",
    "    file = unidecode.unidecode(open(filename).read())\n",
    "    return file, len(file)\n",
    "\n",
    "# Turning a string into a tensor\n",
    "\n",
    "def char_tensor(string):\n",
    "    tensor = torch.zeros(len(string)).long()\n",
    "    for c in range(len(string)):\n",
    "        try:\n",
    "            tensor[c] = all_characters.index(string[c])\n",
    "        except:\n",
    "            continue\n",
    "    return tensor\n",
    "\n",
    "# Readable time elapsed\n",
    "\n",
    "def time_since(since):\n",
    "    s = time.time() - since\n",
    "    m = math.floor(s / 60)\n",
    "    s -= m * 60\n",
    "    return '%dm %ds' % (m, s)"
   ]
  },
  {
   "cell_type": "code",
   "execution_count": 5,
   "metadata": {},
   "outputs": [],
   "source": [
    "def generate(decoder, prime_str='A', predict_len=100, temperature=0.8, cuda=False):\n",
    "    hidden = decoder.init_hidden(1)\n",
    "    prime_input = Variable(char_tensor(prime_str).unsqueeze(0))\n",
    "\n",
    "    if cuda:\n",
    "        hidden = hidden.cuda()\n",
    "        prime_input = prime_input.cuda()\n",
    "    predicted = prime_str\n",
    "\n",
    "    # Use priming string to \"build up\" hidden state\n",
    "    for p in range(len(prime_str) - 1):\n",
    "        _, hidden = decoder(prime_input[:,p], hidden)\n",
    "        \n",
    "    inp = prime_input[:,-1]\n",
    "    \n",
    "    for p in range(predict_len):\n",
    "        output, hidden = decoder(inp, hidden)\n",
    "        \n",
    "        # Sample from the network as a multinomial distribution\n",
    "        output_dist = output.data.view(-1).div(temperature).exp()\n",
    "        top_i = torch.multinomial(output_dist, 1)[0]\n",
    "\n",
    "        # Add predicted character to string and use as next input\n",
    "        predicted_char = all_characters[top_i]\n",
    "        predicted += predicted_char\n",
    "        inp = Variable(char_tensor(predicted_char).unsqueeze(0))\n",
    "        if cuda:\n",
    "            inp = inp.cuda()\n",
    "\n",
    "    return predicted"
   ]
  },
  {
   "cell_type": "code",
   "execution_count": 6,
   "metadata": {},
   "outputs": [],
   "source": [
    "class CharRNN(nn.Module):\n",
    "    def __init__(self, input_size, hidden_size, output_size, model=\"gru\", n_layers=1):\n",
    "        super(CharRNN, self).__init__()\n",
    "        self.model = model.lower()\n",
    "        self.input_size = input_size\n",
    "        self.hidden_size = hidden_size\n",
    "        self.output_size = output_size\n",
    "        self.n_layers = n_layers\n",
    "\n",
    "        self.encoder = nn.Embedding(input_size, hidden_size)\n",
    "        if self.model == \"gru\":\n",
    "            self.rnn = nn.GRU(hidden_size, hidden_size, n_layers)\n",
    "        elif self.model == \"lstm\":\n",
    "            self.rnn = nn.LSTM(hidden_size, hidden_size, n_layers)\n",
    "        self.decoder = nn.Linear(hidden_size, output_size)\n",
    "\n",
    "    def forward(self, input, hidden):\n",
    "        batch_size = input.size(0)\n",
    "        encoded = self.encoder(input)\n",
    "        output, hidden = self.rnn(encoded.view(1, batch_size, -1), hidden)\n",
    "        output = self.decoder(output.view(batch_size, -1))\n",
    "        return output, hidden\n",
    "\n",
    "    def forward2(self, input, hidden):\n",
    "        encoded = self.encoder(input.view(1, -1))\n",
    "        output, hidden = self.rnn(encoded.view(1, 1, -1), hidden)\n",
    "        output = self.decoder(output.view(1, -1))\n",
    "        return output, hidden\n",
    "\n",
    "    def init_hidden(self, batch_size):\n",
    "        if self.model == \"lstm\":\n",
    "            return (Variable(torch.zeros(self.n_layers, batch_size, self.hidden_size)),\n",
    "                    Variable(torch.zeros(self.n_layers, batch_size, self.hidden_size)))\n",
    "        return Variable(torch.zeros(self.n_layers, batch_size, self.hidden_size))"
   ]
  },
  {
   "cell_type": "code",
   "execution_count": 7,
   "metadata": {},
   "outputs": [],
   "source": [
    "def random_training_set(chunk_len, batch_size):\n",
    "    inp = torch.LongTensor(batch_size, chunk_len)\n",
    "    target = torch.LongTensor(batch_size, chunk_len)\n",
    "    for bi in range(batch_size):\n",
    "        start_index = random.randint(0, file_len - chunk_len)\n",
    "        end_index = start_index + chunk_len + 1\n",
    "        chunk = file[start_index:end_index]\n",
    "        inp[bi] = char_tensor(chunk[:-1])\n",
    "        target[bi] = char_tensor(chunk[1:])\n",
    "    inp = Variable(inp)\n",
    "    target = Variable(target)\n",
    "    if cuda:\n",
    "        inp = inp.cuda()\n",
    "        target = target.cuda()\n",
    "    return inp, target\n",
    "\n",
    "def train(inp, target):\n",
    "    hidden = decoder.init_hidden(batch_size)\n",
    "    if cuda:\n",
    "        hidden = hidden.cuda()\n",
    "    decoder.zero_grad()\n",
    "    loss = 0\n",
    "\n",
    "    for c in range(chunk_len):\n",
    "        output, hidden = decoder(inp[:,c], hidden)\n",
    "        loss += criterion(output.view(batch_size, -1), target[:,c])\n",
    "\n",
    "    loss.backward()\n",
    "    decoder_optimizer.step()\n",
    "\n",
    "    return loss.data.item() / chunk_len\n",
    "    # return loss.data[0] / chunk_len\n",
    "\n",
    "def save():\n",
    "    save_filename = os.path.splitext(os.path.basename(filename))[0] + '.pt'\n",
    "    torch.save(decoder, save_filename)\n",
    "    print('Saved as %s' % save_filename)"
   ]
  },
  {
   "cell_type": "code",
   "execution_count": 11,
   "metadata": {},
   "outputs": [],
   "source": [
    "# define args\n",
    "filename = \"shakespeare.txt\"\n",
    "n_epochs = 2000\n",
    "model = \"gru\"\n",
    "print_every = 100\n",
    "hidden_size = 100\n",
    "n_layers = 2\n",
    "learning_rate = 0.01\n",
    "chunk_len = 200\n",
    "batch_size = 100\n",
    "shuffle = True\n",
    "cuda = False\n",
    "\n",
    "\n",
    "file, file_len = read_file(filename)\n",
    "\n",
    "# Initialize models and start training\n",
    "decoder = CharRNN(\n",
    "    n_characters,\n",
    "    hidden_size,\n",
    "    n_characters,\n",
    "    model=model,\n",
    "    n_layers=n_layers,\n",
    ")\n",
    "decoder_optimizer = torch.optim.Adam(decoder.parameters(), lr=learning_rate)\n",
    "criterion = nn.CrossEntropyLoss()\n"
   ]
  },
  {
   "cell_type": "code",
   "execution_count": 21,
   "metadata": {},
   "outputs": [
    {
     "name": "stdout",
     "output_type": "stream",
     "text": [
      "Training for 2000 epochs...\n"
     ]
    },
    {
     "name": "stderr",
     "output_type": "stream",
     "text": [
      "  5%|▌         | 100/2000 [01:34<30:30,  1.04it/s]"
     ]
    },
    {
     "name": "stdout",
     "output_type": "stream",
     "text": [
      "[1m 34s (100 5%) 1.7829]\n",
      "When stice; lord have and heir art will thee; my dead?\n",
      "\n",
      "QUEEN OF HALET:\n",
      "Now not the daven his knived I \n",
      "\n"
     ]
    },
    {
     "name": "stderr",
     "output_type": "stream",
     "text": [
      " 10%|█         | 200/2000 [03:09<29:46,  1.01it/s]"
     ]
    },
    {
     "name": "stdout",
     "output_type": "stream",
     "text": [
      "[3m 9s (200 10%) 1.5739]\n",
      "Whis own Looe,\n",
      "And leave you wull that is a dead.\n",
      "\n",
      "ARICET:\n",
      "Where do the fleave and love!\n",
      "\n",
      "CYORMESLA:\n",
      "C \n",
      "\n"
     ]
    },
    {
     "name": "stderr",
     "output_type": "stream",
     "text": [
      " 15%|█▌        | 300/2000 [04:47<28:34,  1.01s/it]"
     ]
    },
    {
     "name": "stdout",
     "output_type": "stream",
     "text": [
      "[4m 47s (300 15%) 1.4931]\n",
      "Wham, and a from lead;\n",
      "The set fier with all shall got shall not party of the may deep the patience;\n",
      "F \n",
      "\n"
     ]
    },
    {
     "name": "stderr",
     "output_type": "stream",
     "text": [
      " 20%|██        | 400/2000 [06:26<26:37,  1.00it/s]"
     ]
    },
    {
     "name": "stdout",
     "output_type": "stream",
     "text": [
      "[6m 26s (400 20%) 1.4419]\n",
      "Whiles most.\n",
      "\n",
      "ANGELO:\n",
      "For this word, wilt I have hath one mark\n",
      "To had be of pardon's ruchio's happer i \n",
      "\n"
     ]
    },
    {
     "name": "stderr",
     "output_type": "stream",
     "text": [
      " 25%|██▌       | 500/2000 [08:06<25:21,  1.01s/it]"
     ]
    },
    {
     "name": "stdout",
     "output_type": "stream",
     "text": [
      "[8m 6s (500 25%) 1.4376]\n",
      "Whus you, sir: please thee it uncles\n",
      "That I should not confe, do envious persenders but\n",
      "That our left  \n",
      "\n"
     ]
    },
    {
     "name": "stderr",
     "output_type": "stream",
     "text": [
      " 30%|███       | 600/2000 [09:47<23:31,  1.01s/it]"
     ]
    },
    {
     "name": "stdout",
     "output_type": "stream",
     "text": [
      "[9m 47s (600 30%) 1.4287]\n",
      "Whe hath born heavy?\n",
      "\n",
      "DUKE OF YORK:\n",
      "Let him to my a.!\n",
      "\n",
      "HASTINGS:\n",
      "And I die me, such remember made\n",
      "And  \n",
      "\n"
     ]
    },
    {
     "name": "stderr",
     "output_type": "stream",
     "text": [
      " 35%|███▌      | 700/2000 [11:26<21:47,  1.01s/it]"
     ]
    },
    {
     "name": "stdout",
     "output_type": "stream",
     "text": [
      "[11m 26s (700 35%) 1.4108]\n",
      "Why with me,\n",
      "What any king than done, what I am looks.\n",
      "\n",
      "MARCIUS:\n",
      "This, go like the noble lips liked mo \n",
      "\n"
     ]
    },
    {
     "name": "stderr",
     "output_type": "stream",
     "text": [
      " 40%|████      | 800/2000 [13:07<21:58,  1.10s/it]"
     ]
    },
    {
     "name": "stdout",
     "output_type": "stream",
     "text": [
      "[13m 7s (800 40%) 1.3857]\n",
      "What's embraced, sir,\n",
      "To the world to a casied up and his very sendles.\n",
      "\n",
      "HENRY BOLINGBROKE:\n",
      "You loved  \n",
      "\n"
     ]
    },
    {
     "name": "stderr",
     "output_type": "stream",
     "text": [
      " 45%|████▌     | 900/2000 [14:48<18:24,  1.00s/it]"
     ]
    },
    {
     "name": "stdout",
     "output_type": "stream",
     "text": [
      "[14m 47s (900 45%) 1.3921]\n",
      "Which, from the call thee\n",
      "Remembddelly'd Hortensio, matter that voice in my death,\n",
      "in him, this is lif \n",
      "\n"
     ]
    },
    {
     "name": "stderr",
     "output_type": "stream",
     "text": [
      " 50%|█████     | 1000/2000 [16:27<16:43,  1.00s/it]"
     ]
    },
    {
     "name": "stdout",
     "output_type": "stream",
     "text": [
      "[16m 27s (1000 50%) 1.3902]\n",
      "What.\n",
      "\n",
      "ESCALUS:\n",
      "In the father is not hanges so true.\n",
      "Prove, that I say it hast man,\n",
      "For that my heart  \n",
      "\n"
     ]
    },
    {
     "name": "stderr",
     "output_type": "stream",
     "text": [
      " 55%|█████▌    | 1100/2000 [18:07<15:31,  1.04s/it]"
     ]
    },
    {
     "name": "stdout",
     "output_type": "stream",
     "text": [
      "[18m 7s (1100 55%) 1.3615]\n",
      "Which God?\n",
      "\n",
      "QUEEN MARGARET:\n",
      "Well, be lose you blood?\n",
      "\n",
      "SICINIUS:\n",
      "Fear I will not both\n",
      "To wear and becom \n",
      "\n"
     ]
    },
    {
     "name": "stderr",
     "output_type": "stream",
     "text": [
      " 60%|██████    | 1200/2000 [19:48<13:26,  1.01s/it]"
     ]
    },
    {
     "name": "stdout",
     "output_type": "stream",
     "text": [
      "[19m 48s (1200 60%) 1.3485]\n",
      "Whey homest thou.\n",
      "\n",
      "LUCENTIO:\n",
      "Yet made him it and when that it should have death\n",
      "Beforge a be one for d \n",
      "\n"
     ]
    },
    {
     "name": "stderr",
     "output_type": "stream",
     "text": [
      " 65%|██████▌   | 1300/2000 [21:27<11:48,  1.01s/it]"
     ]
    },
    {
     "name": "stdout",
     "output_type": "stream",
     "text": [
      "[21m 27s (1300 65%) 1.3528]\n",
      "Whuster what an last with the\n",
      "shepherd with the proceeds than this prisoner,\n",
      "I cording so much after f \n",
      "\n"
     ]
    },
    {
     "name": "stderr",
     "output_type": "stream",
     "text": [
      " 70%|███████   | 1400/2000 [23:06<09:34,  1.05it/s]"
     ]
    },
    {
     "name": "stdout",
     "output_type": "stream",
     "text": [
      "[23m 6s (1400 70%) 1.3801]\n",
      "Why, more?\n",
      "\n",
      "LUCIO:\n",
      "Ay, set brook after in my thine.\n",
      "\n",
      "PAULINA:\n",
      "No, be thou shadest\n",
      "In very with Lord, o \n",
      "\n"
     ]
    },
    {
     "name": "stderr",
     "output_type": "stream",
     "text": [
      " 75%|███████▌  | 1500/2000 [24:46<08:22,  1.00s/it]"
     ]
    },
    {
     "name": "stdout",
     "output_type": "stream",
     "text": [
      "[24m 46s (1500 75%) 1.3678]\n",
      "Whipper holder the serves?\n",
      "\n",
      "CORIOLANUS:\n",
      "Sweet hanges, though once.\n",
      "\n",
      "HENRY BOLINGBROKE:\n",
      "How! learn me t \n",
      "\n"
     ]
    },
    {
     "name": "stderr",
     "output_type": "stream",
     "text": [
      " 80%|████████  | 1600/2000 [26:26<06:44,  1.01s/it]"
     ]
    },
    {
     "name": "stdout",
     "output_type": "stream",
     "text": [
      "[26m 26s (1600 80%) 1.3508]\n",
      "When but to cered more melted by the was able in the marriage\n",
      "Be may person and mine, and in our dear  \n",
      "\n"
     ]
    },
    {
     "name": "stderr",
     "output_type": "stream",
     "text": [
      " 85%|████████▌ | 1700/2000 [28:03<05:03,  1.01s/it]"
     ]
    },
    {
     "name": "stdout",
     "output_type": "stream",
     "text": [
      "[28m 3s (1700 85%) 1.3034]\n",
      "What some that I have the hurchion\n",
      "Made him doth so suits of this love his\n",
      "sure, none and time and his \n",
      "\n"
     ]
    },
    {
     "name": "stderr",
     "output_type": "stream",
     "text": [
      " 90%|█████████ | 1800/2000 [29:42<03:17,  1.01it/s]"
     ]
    },
    {
     "name": "stdout",
     "output_type": "stream",
     "text": [
      "[29m 42s (1800 90%) 1.3655]\n",
      "Whork him shall be dread upon us.\n",
      "\n",
      "First Musician:\n",
      "O, he did hastest blister love a blood.\n",
      "\n",
      "CAMILLO:\n",
      "H \n",
      "\n"
     ]
    },
    {
     "name": "stderr",
     "output_type": "stream",
     "text": [
      " 95%|█████████▌| 1900/2000 [31:21<01:39,  1.00it/s]"
     ]
    },
    {
     "name": "stdout",
     "output_type": "stream",
     "text": [
      "[31m 21s (1900 95%) 1.3123]\n",
      "Whoer, my liege, hear me was pains,\n",
      "Buty took thee the feaseful thing and was not from my face!\n",
      "Condem \n",
      "\n"
     ]
    },
    {
     "name": "stderr",
     "output_type": "stream",
     "text": [
      "100%|██████████| 2000/2000 [33:01<00:00,  1.01it/s]"
     ]
    },
    {
     "name": "stdout",
     "output_type": "stream",
     "text": [
      "[33m 1s (2000 100%) 1.3353]\n",
      "While see thee learn.\n",
      "\n",
      "First Senator:\n",
      "Stand his good lord with a rend ecrelets, and comes the cause,\n",
      "W \n",
      "\n",
      "Saving...\n",
      "Saved as shakespeare.pt\n"
     ]
    },
    {
     "name": "stderr",
     "output_type": "stream",
     "text": [
      "\n"
     ]
    },
    {
     "data": {
      "image/png": "[encoded data removed]",
      "text/plain": [
       "<Figure size 432x288 with 1 Axes>"
      ]
     },
     "metadata": {
      "needs_background": "light"
     },
     "output_type": "display_data"
    }
   ],
   "source": [
    "\n",
    "if cuda:\n",
    "    decoder.cuda()\n",
    "\n",
    "start = time.time()\n",
    "all_losses = []\n",
    "loss_avg = 0\n",
    "\n",
    "perplexities = []\n",
    "\n",
    "try:\n",
    "    print(\"Training for %d epochs...\" % n_epochs)\n",
    "    for epoch in tqdm(range(1, n_epochs + 1)):\n",
    "        loss = train(*random_training_set(chunk_len, batch_size))\n",
    "        loss_avg += loss\n",
    "        perplexities.append(math.exp(loss))\n",
    "\n",
    "        if epoch % print_every == 0:\n",
    "            print('[%s (%d %d%%) %.4f]' % (time_since(start), epoch, epoch / n_epochs * 100, loss))\n",
    "            print(generate(decoder, 'Wh', 100, cuda=cuda), '\\n')\n",
    "\n",
    "    print(\"Saving...\")\n",
    "    save()\n",
    "\n",
    "except KeyboardInterrupt:\n",
    "    print(\"Saving before quit...\")\n",
    "    save()\n",
    "\n",
    "\n",
    "plt.plot(perplexities)\n",
    "plt.ylabel('Perplexity')\n",
    "plt.xlabel('Epoch')\n",
    "plt.show()"
   ]
  },
  {
   "cell_type": "code",
   "execution_count": 27,
   "metadata": {},
   "outputs": [
    {
     "data": {
      "image/png": "[encoded data removed]",
      "text/plain": [
       "<Figure size 432x288 with 1 Axes>"
      ]
     },
     "metadata": {
      "needs_background": "light"
     },
     "output_type": "display_data"
    }
   ],
   "source": [
    "# if we ignore some of the first epochs we get a much clearer graph\n",
    "plt.plot(perplexities[10:])\n",
    "plt.ylabel('Perplexity')\n",
    "plt.xlabel('Epoch')\n",
    "plt.show()"
   ]
  },
  {
   "cell_type": "markdown",
   "metadata": {},
   "source": [
    "# PART 2"
   ]
  },
  {
   "cell_type": "code",
   "execution_count": 9,
   "metadata": {},
   "outputs": [],
   "source": [
    "import string\n",
    "import random\n",
    "\n",
    "def randomString(len):\n",
    "    s = \"\"\n",
    "    for i in range(len):\n",
    "        s = s + random.choice(string.printable)\n",
    "    return s"
   ]
  },
  {
   "cell_type": "code",
   "execution_count": 26,
   "metadata": {},
   "outputs": [
    {
     "name": "stdout",
     "output_type": "stream",
     "text": [
      "======Prime string: l\t@_. ======\n",
      "l\t@_.\n",
      "\n",
      "DION:\n",
      "Most wife giwl that they are brought to:\n",
      "My life of Clais which does got bearing.\n",
      "\n",
      "KING HENR\n",
      "======Prime string: S)_5: ======\n",
      "S)_5:\n",
      "But in mon was a rock suddens so her patol.\n",
      "\n",
      "KING EDWARD IV:\n",
      "Since then; I for my lord, that both t\n",
      "======Prime string: e-`.n ======\n",
      "e-`.n ust forth graves,\n",
      "Is for unless I'll passing the most beggars for them.\n",
      "\n",
      "PETRUCHIO:\n",
      "No hands ready \n",
      "======Prime string: Sr2Qv ======\n",
      "Sr2QvK: I have in the publedily,\n",
      "Or playery tears, and princes, I will hear her hour: be not\n",
      "The fault's \n",
      "======Prime string: TT6IE ======\n",
      "TT6IES:\n",
      "And he hast I may not die, which come your oath\n",
      "Comforty than her plague sleep.\n",
      "\n",
      "Second Servingma\n"
     ]
    }
   ],
   "source": [
    "decoder = torch.load(\"shakespeare.pt\")\n",
    "\n",
    "for i in range(5):\n",
    "    prime_string = randomString(5)\n",
    "    print(\"======Prime string:\",prime_string,\"======\")\n",
    "    print(generate(decoder, prime_str=prime_string))"
   ]
  },
  {
   "cell_type": "markdown",
   "metadata": {},
   "source": [
    "# PART 3"
   ]
  },
  {
   "cell_type": "code",
   "execution_count": 22,
   "metadata": {},
   "outputs": [
    {
     "name": "stdout",
     "output_type": "stream",
     "text": [
      "Prime string: The\n",
      "The rest, my lords of impeariness',\n",
      "Disposition.'\n",
      "\n",
      "FRIAR LAURENCE:\n",
      "Now, sir, or that that patience o' t\n"
     ]
    }
   ],
   "source": [
    "prime_string = \"The\"\n",
    "print(\"Prime string:\",prime_string)\n",
    "print(generate(decoder, prime_str=prime_string))"
   ]
  },
  {
   "cell_type": "code",
   "execution_count": 23,
   "metadata": {},
   "outputs": [
    {
     "name": "stdout",
     "output_type": "stream",
     "text": [
      "Prime string: What is\n",
      "What is her buse, good fair\n",
      "That hath not our vain advantage of something\n",
      "hand of king and closets my finge\n"
     ]
    }
   ],
   "source": [
    "prime_string = \"What is\"\n",
    "print(\"Prime string:\",prime_string)\n",
    "print(generate(decoder, prime_str=prime_string))"
   ]
  },
  {
   "cell_type": "code",
   "execution_count": 24,
   "metadata": {},
   "outputs": [
    {
     "name": "stdout",
     "output_type": "stream",
     "text": [
      "Prime string: Shall I give\n",
      "Shall I give your lord;\n",
      "And tell him place that here will thelp, gentlemen,\n",
      "This comes out farther wild and mine\n"
     ]
    }
   ],
   "source": [
    "prime_string = \"Shall I give\"\n",
    "print(\"Prime string:\",prime_string)\n",
    "print(generate(decoder, prime_str=prime_string))"
   ]
  },
  {
   "cell_type": "code",
   "execution_count": 25,
   "metadata": {},
   "outputs": [
    {
     "name": "stdout",
     "output_type": "stream",
     "text": [
      "Prime string: X087hNYB BHN BYFVuhsdbs\n",
      "X087hNYB BHN BYFVuhsdbstart, lord impraced of my enemies.\n",
      "\n",
      "First Senator:\n",
      "What replainter'd of your word of me?\n",
      "\n",
      "CLIFFORD:\n",
      "\n"
     ]
    }
   ],
   "source": [
    "prime_string = \"X087hNYB BHN BYFVuhsdbs\"\n",
    "print(\"Prime string:\",prime_string)\n",
    "print(generate(decoder, prime_str=prime_string))"
   ]
  }
 ],
 "metadata": {
  "interpreter": {
   "hash": "ffb6baedebf6957ac36c66a06d806fe87b8bfbad768888f61612b8fcf4c95baf"
  },
  "kernelspec": {
   "display_name": "Python 3.7.6 64-bit",
   "language": "python",
   "name": "python3"
  },
  "language_info": {
   "codemirror_mode": {
    "name": "ipython",
    "version": 3
   },
   "file_extension": ".py",
   "mimetype": "text/x-python",
   "name": "python",
   "nbconvert_exporter": "python",
   "pygments_lexer": "ipython3",
   "version": "3.7.6"
  },
  "orig_nbformat": 4
 },
 "nbformat": 4,
 "nbformat_minor": 2
}

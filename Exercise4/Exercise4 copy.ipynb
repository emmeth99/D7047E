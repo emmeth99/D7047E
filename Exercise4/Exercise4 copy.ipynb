{
 "cells": [
  {
   "cell_type": "markdown",
   "metadata": {},
   "source": [
    "TASK 1"
   ]
  },
  {
   "cell_type": "code",
   "execution_count": 4,
   "metadata": {},
   "outputs": [],
   "source": [
    "import torch\n",
    "import torch.nn as nn\n",
    "from torch.autograd import Variable\n",
    "import argparse\n",
    "import os\n",
    "import matplotlib.pyplot as plt\n",
    "\n",
    "from tqdm import tqdm\n",
    "\n",
    "from helpers import *\n",
    "from model import *\n",
    "from generate import *"
   ]
  },
  {
   "cell_type": "code",
   "execution_count": 71,
   "metadata": {},
   "outputs": [],
   "source": [
    "file, file_len = read_file(\"shakespeare copy.txt\")\n",
    "\n",
    "model = \"gru\"\n",
    "n_epochs = 1000\n",
    "print_every = 100\n",
    "hidden_size = 50\n",
    "n_layers = 2\n",
    "learning_rate = 0.01\n",
    "chunk_len = 100\n",
    "batch_size = 50\n",
    "cuda = False\n"
   ]
  },
  {
   "cell_type": "code",
   "execution_count": 72,
   "metadata": {},
   "outputs": [],
   "source": [
    "# you know what it does\n",
    "def create_dictionary(text):\n",
    "    special_characters = [' ', ':', '\\n', ',', '.', '?', \"'\", ';', '!', '-', '&', '3']\n",
    "\n",
    "    dictionary = []\n",
    "\n",
    "    j = 0\n",
    "    for i in range(len(text)):\n",
    "        char = text[i]\n",
    "        if char in special_characters:\n",
    "            word = text[j:i]\n",
    "            if i == j:\n",
    "                word = text[j:i+1]\n",
    "                \n",
    "            if char not in dictionary:\n",
    "                dictionary.append(char)\n",
    "                \n",
    "            if word not in dictionary:\n",
    "                dictionary.append(word)\n",
    "                            \n",
    "            j = i+1\n",
    "        continue\n",
    "\n",
    "    return dictionary"
   ]
  },
  {
   "cell_type": "code",
   "execution_count": 73,
   "metadata": {},
   "outputs": [],
   "source": [
    "all_words = create_dictionary(file)"
   ]
  },
  {
   "cell_type": "code",
   "execution_count": 74,
   "metadata": {},
   "outputs": [],
   "source": [
    "def wordsToTensor(words):\n",
    "    tensor = torch.zeros(len(words)).long()\n",
    "    for c in range(len(words)):\n",
    "        try:\n",
    "            tensor[c] = all_words.index(words[c])\n",
    "        except:\n",
    "            continue\n",
    "    return tensor\n"
   ]
  },
  {
   "cell_type": "code",
   "execution_count": 86,
   "metadata": {},
   "outputs": [],
   "source": [
    "special_characters = [' ', '\\n', ',', '.', '?', \"'\", ';', '!', '-', '&', '3', ':']\n",
    "\n",
    "\n",
    "def random_training_set(chunk_len, batch_size):\n",
    "    inp = torch.LongTensor(batch_size, chunk_len)\n",
    "    target = torch.LongTensor(batch_size, chunk_len)\n",
    "    for bi in range(batch_size):\n",
    "        \n",
    "        words = []\n",
    "        start_index = random.randint(0, file_len - chunk_len)\n",
    "        chunk = file[start_index:]\n",
    "        i = 1\n",
    "        j = 0\n",
    "        while len(words) <= chunk_len:\n",
    "            if i>=len(chunk):\n",
    "                char = chunk[len(chunk)-1]\n",
    "            else:\n",
    "                try:\n",
    "                    char = chunk[i]\n",
    "                except IndexError:\n",
    "                    print(\"i: \", i)\n",
    "                    print(\"len(chunk): \", len(chunk))\n",
    "                \n",
    "            \n",
    "\n",
    "            if char in special_characters:\n",
    "                word = chunk[j:i]\n",
    "                if i == j:\n",
    "                    word = chunk[j:i+1]\n",
    "                    \n",
    "                if char not in words and char != ' ':\n",
    "                    words.append(char)\n",
    "                    \n",
    "                if word not in words:\n",
    "                    words.append(word)\n",
    "                \n",
    "                                \n",
    "                j = i+1\n",
    "            i = i+1 \n",
    "            continue\n",
    "            \n",
    "        if(len(words)>chunk_len+1):\n",
    "            words.pop()\n",
    "        \n",
    "        inp[bi] = wordsToTensor(words[:-1])\n",
    "        target[bi] = wordsToTensor(words[1:])\n",
    "    inp = Variable(inp)\n",
    "    target = Variable(target)\n",
    "    if cuda:\n",
    "        inp = inp.cuda()\n",
    "        target = target.cuda()\n",
    "    return inp, target\n",
    "\n",
    "def train(inp, target):\n",
    "    hidden = decoder.init_hidden(batch_size)\n",
    "    if cuda:\n",
    "        hidden = hidden.cuda()\n",
    "    decoder.zero_grad()\n",
    "    loss = 0\n",
    "\n",
    "    for c in range(chunk_len):\n",
    "        output, hidden = decoder(inp[:,c], hidden)\n",
    "        loss += criterion(output.view(batch_size, -1), target[:,c])\n",
    "\n",
    "    loss.backward()\n",
    "    decoder_optimizer.step()\n",
    "\n",
    "    return loss.data.item() / chunk_len\n",
    "\n",
    "def save():\n",
    "    save_filename = os.path.splitext(os.path.basename(\"shakespeare\"))[0] + '.pt'\n",
    "    torch.save(decoder, save_filename)\n",
    "    print('Saved as %s' % save_filename)\n",
    "\n"
   ]
  },
  {
   "cell_type": "code",
   "execution_count": 87,
   "metadata": {},
   "outputs": [
    {
     "name": "stdout",
     "output_type": "stream",
     "text": [
      "Training for 1000 epochs...\n"
     ]
    },
    {
     "name": "stderr",
     "output_type": "stream",
     "text": [
      "  1%|          | 9/1000 [00:21<38:44,  2.35s/it]"
     ]
    },
    {
     "name": "stdout",
     "output_type": "stream",
     "text": [
      "Saving before quit...\n",
      "Saved as shakespeare.pt\n"
     ]
    },
    {
     "name": "stderr",
     "output_type": "stream",
     "text": [
      "\n"
     ]
    },
    {
     "data": {
      "image/png": "[encoded data removed]",
      "text/plain": [
       "<Figure size 432x288 with 1 Axes>"
      ]
     },
     "metadata": {
      "needs_background": "light"
     },
     "output_type": "display_data"
    }
   ],
   "source": [
    "\n",
    "# Initialize models and start training\n",
    "\n",
    "\n",
    "decoder = CharRNN(\n",
    "    len(all_words),\n",
    "    hidden_size,\n",
    "    len(all_words),\n",
    "    model=model,\n",
    "    n_layers=n_layers,\n",
    ")\n",
    "decoder_optimizer = torch.optim.Adam(decoder.parameters(), lr=learning_rate)\n",
    "criterion = nn.CrossEntropyLoss()\n",
    "\n",
    "if cuda:\n",
    "    decoder.cuda()\n",
    "\n",
    "start = time.time()\n",
    "all_losses = []\n",
    "loss_avg = 0\n",
    "perplexities = []\n",
    "try:\n",
    "    print(\"Training for %d epochs...\" % n_epochs)\n",
    "    for epoch in tqdm(range(1, n_epochs + 1)):\n",
    "        loss = train(*random_training_set(chunk_len, batch_size))\n",
    "        loss_avg += loss\n",
    "        perplexities.append(math.exp(loss))\n",
    "\n",
    "        if epoch % print_every == 0:\n",
    "            print('[%s (%d %d%%) %.4f]' % (time_since(start), epoch, epoch / n_epochs * 100, loss))\n",
    "            print(generate(decoder, 'Wh', 100, cuda=cuda), '\\n')\n",
    "\n",
    "    print(\"Saving...\")\n",
    "    save()\n",
    "except KeyboardInterrupt:\n",
    "    print(\"Saving before quit...\")\n",
    "    save()\n",
    "\n",
    "plt.plot(perplexities)\n",
    "plt.ylabel('Perplexity')\n",
    "plt.xlabel('Epoch')\n",
    "plt.show()"
   ]
  },
  {
   "cell_type": "code",
   "execution_count": 26,
   "metadata": {},
   "outputs": [],
   "source": [
    "def generate(decoder, prime_str='A', predict_len=100, temperature=0.8, cuda=False):\n",
    "    hidden = decoder.init_hidden(1)\n",
    "    prime_input = Variable(char_tensor(prime_str).unsqueeze(0))\n",
    "\n",
    "    if cuda:\n",
    "        hidden = hidden.cuda()\n",
    "        prime_input = prime_input.cuda()\n",
    "    predicted = prime_str\n",
    "\n",
    "    # Use priming string to \"build up\" hidden state\n",
    "    for p in range(len(prime_str) - 1):\n",
    "        _, hidden = decoder(prime_input[:,p], hidden)\n",
    "        \n",
    "    inp = prime_input[:,-1]\n",
    "    \n",
    "    for p in range(predict_len):\n",
    "        output, hidden = decoder(inp, hidden)\n",
    "        \n",
    "        # Sample from the network as a multinomial distribution\n",
    "        output_dist = output.data.view(-1).div(temperature).exp()\n",
    "        top_i = torch.multinomial(output_dist, 1)[0]\n",
    "\n",
    "        # Add predicted character to string and use as next input\n",
    "        predicted_char = all_characters[top_i]\n",
    "        predicted += predicted_char\n",
    "        inp = Variable(char_tensor(predicted_char).unsqueeze(0))\n",
    "        if cuda:\n",
    "            inp = inp.cuda()\n",
    "\n",
    "    return predicted"
   ]
  },
  {
   "cell_type": "markdown",
   "metadata": {},
   "source": [
    "TASK 2"
   ]
  },
  {
   "cell_type": "code",
   "execution_count": 27,
   "metadata": {},
   "outputs": [],
   "source": [
    "import string\n",
    "import random\n",
    "\n",
    "def randomString(len):\n",
    "    s = \"\"\n",
    "    for i in range(len):\n",
    "        s = s + random.choice(string.printable)\n",
    "    return s"
   ]
  },
  {
   "cell_type": "code",
   "execution_count": 67,
   "metadata": {},
   "outputs": [
    {
     "name": "stdout",
     "output_type": "stream",
     "text": [
      "Prime string: ?h)Qc\n",
      "?h)Qck, I am revouchay see, for laid,\n",
      "Is bread against Rome me that betal stand viles of him,\n",
      "When in thy\n"
     ]
    }
   ],
   "source": [
    "dc = torch.load(\"shakespeare.pt\")\n",
    "prime_string = randomString(5)\n",
    "print(\"Prime string:\",prime_string)\n",
    "print(generate(decoder, prime_str=prime_string))"
   ]
  },
  {
   "cell_type": "code",
   "execution_count": 68,
   "metadata": {},
   "outputs": [
    {
     "name": "stdout",
     "output_type": "stream",
     "text": [
      "Prime string: f=r0X\n",
      "f=r0X\n",
      "\n",
      "DUKE VINCENTIO:\n",
      "Give the kings think wery sister's give officers.\n",
      "\n",
      "ISABELLA:\n",
      "But the more fast as \n"
     ]
    }
   ],
   "source": [
    "dc = torch.load(\"shakespeare.pt\")\n",
    "prime_string = randomString(5)\n",
    "print(\"Prime string:\",prime_string)\n",
    "print(generate(decoder, prime_str=prime_string, temperature=0.8))"
   ]
  },
  {
   "cell_type": "code",
   "execution_count": 69,
   "metadata": {},
   "outputs": [
    {
     "name": "stdout",
     "output_type": "stream",
     "text": [
      "Prime string: -/T\u000b+\n",
      "-/T\u000b+kecked me proice, I way be never war us\n",
      "Mad beseay young my broy degue the pard.\n",
      "\n",
      "TRANIO:\n",
      "\n",
      "POMPEY:\n",
      "I\n"
     ]
    }
   ],
   "source": [
    "dc = torch.load(\"shakespeare.pt\")\n",
    "prime_string = randomString(5)\n",
    "print(\"Prime string:\",prime_string)\n",
    "print(generate(decoder, prime_str=prime_string))"
   ]
  },
  {
   "cell_type": "markdown",
   "metadata": {},
   "source": [
    "TASK 3"
   ]
  },
  {
   "cell_type": "code",
   "execution_count": 70,
   "metadata": {},
   "outputs": [
    {
     "name": "stdout",
     "output_type": "stream",
     "text": [
      "Prime string: The\n",
      "Thepherd with of man-now,\n",
      "No courter from been and the royond; and a tone very know the day\n",
      "Ib may stil\n"
     ]
    }
   ],
   "source": [
    "dc = torch.load(\"shakespeare.pt\")\n",
    "prime_string = \"The\"\n",
    "print(\"Prime string:\",prime_string)\n",
    "print(generate(decoder, prime_str=prime_string))"
   ]
  },
  {
   "cell_type": "code",
   "execution_count": 71,
   "metadata": {},
   "outputs": [
    {
     "name": "stdout",
     "output_type": "stream",
     "text": [
      "Prime string: What is\n",
      "What is me plains with ared\n",
      "When whese house I; 'leseon and more,\n",
      "And proke's okest the now: the fear moria\n"
     ]
    }
   ],
   "source": [
    "dc = torch.load(\"shakespeare.pt\")\n",
    "prime_string = \"What is\"\n",
    "print(\"Prime string:\",prime_string)\n",
    "print(generate(decoder, prime_str=prime_string))"
   ]
  },
  {
   "cell_type": "code",
   "execution_count": 72,
   "metadata": {},
   "outputs": [
    {
     "name": "stdout",
     "output_type": "stream",
     "text": [
      "Prime string: Shall I give\n",
      "Shall I giveth to the pounties to\n",
      "scomplaintle renupe the beoul, and Kather and about? and it.\n",
      "\n",
      "First Greest as \n"
     ]
    }
   ],
   "source": [
    "dc = torch.load(\"shakespeare.pt\")\n",
    "prime_string = \"Shall I give\"\n",
    "print(\"Prime string:\",prime_string)\n",
    "print(generate(decoder, prime_str=prime_string))"
   ]
  },
  {
   "cell_type": "code",
   "execution_count": 73,
   "metadata": {},
   "outputs": [
    {
     "name": "stdout",
     "output_type": "stream",
     "text": [
      "Prime string: X087hNYB BHN BYFVuhsdbs\n",
      "X087hNYB BHN BYFVuhsdbs yets in that our hear the down\n",
      "To brows made from me see the she weaven walk\n",
      "Hath liberting the has\n"
     ]
    }
   ],
   "source": [
    "dc = torch.load(\"shakespeare.pt\")\n",
    "prime_string = \"X087hNYB BHN BYFVuhsdbs\"\n",
    "print(\"Prime string:\",prime_string)\n",
    "print(generate(decoder, prime_str=prime_string))"
   ]
  },
  {
   "cell_type": "markdown",
   "metadata": {},
   "source": [
    "Task 4"
   ]
  },
  {
   "cell_type": "code",
   "execution_count": null,
   "metadata": {},
   "outputs": [],
   "source": []
  },
  {
   "cell_type": "code",
   "execution_count": null,
   "metadata": {},
   "outputs": [],
   "source": []
  }
 ],
 "metadata": {
  "interpreter": {
   "hash": "ca7165b3874c121c9f63e9490792d5288fe8335c417634071cb2f60b95a24850"
  },
  "kernelspec": {
   "display_name": "Python 3.9.1 64-bit",
   "language": "python",
   "name": "python3"
  },
  "language_info": {
   "codemirror_mode": {
    "name": "ipython",
    "version": 3
   },
   "file_extension": ".py",
   "mimetype": "text/x-python",
   "name": "python",
   "nbconvert_exporter": "python",
   "pygments_lexer": "ipython3",
   "version": "3.9.1"
  },
  "orig_nbformat": 4
 },
 "nbformat": 4,
 "nbformat_minor": 2
}

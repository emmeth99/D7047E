{
 "cells": [
  {
   "cell_type": "code",
   "execution_count": 1,
   "metadata": {},
   "outputs": [
    {
     "name": "stderr",
     "output_type": "stream",
     "text": [
      "C:\\Users\\joska\\AppData\\Local\\Programs\\Python\\Python37\\lib\\site-packages\\tqdm\\auto.py:22: TqdmWarning: IProgress not found. Please update jupyter and ipywidgets. See https://ipywidgets.readthedocs.io/en/stable/user_install.html\n",
      "  from .autonotebook import tqdm as notebook_tqdm\n"
     ]
    }
   ],
   "source": [
    "import torch\n",
    "import torch.nn as nn\n",
    "from torch.autograd import Variable\n",
    "import unidecode\n",
    "import string\n",
    "import random\n",
    "import time\n",
    "import math\n",
    "import os\n",
    "import argparse\n",
    "import numpy as np\n",
    "\n",
    "import matplotlib.pyplot as plt\n",
    "\n",
    "from tqdm import tqdm"
   ]
  },
  {
   "cell_type": "code",
   "execution_count": 2,
   "metadata": {},
   "outputs": [],
   "source": [
    "# Reading and un-unicode-encoding data\n",
    "\n",
    "all_characters = string.printable\n",
    "n_characters = len(all_characters)\n",
    "\n",
    "def read_file(filename):\n",
    "    file = unidecode.unidecode(open(filename).read())\n",
    "    return file, len(file)\n",
    "\n",
    "# you know what it does, keep in mind it is not a dict tho :)\n",
    "def create_dictionary(text):\n",
    "    special_characters = [' ', ':', '\\n', ',', '.', '?', \"'\", ';', '!', '-', '&']\n",
    "\n",
    "    dictionary = []\n",
    "    dataset = []\n",
    "\n",
    "    j = 0\n",
    "    for i in range(len(text)):\n",
    "        char = text[i]\n",
    "        if char in special_characters:\n",
    "            word = text[j:i]\n",
    "            if i == j:\n",
    "                word = text[j:i+1]\n",
    "                \n",
    "            if char not in dictionary:\n",
    "                dictionary.append(char)\n",
    "                \n",
    "            if word not in dictionary:\n",
    "                dictionary.append(word)\n",
    "                \n",
    "            if i != j:\n",
    "                charInd = dictionary.index(char)\n",
    "                wordInd = dictionary.index(word)\n",
    "                dataset.append([wordInd])\n",
    "                dataset.append([charInd])\n",
    "            else:\n",
    "                wordInd = dictionary.index(word)\n",
    "                dataset.append([wordInd])\n",
    "            \n",
    "            j = i+1\n",
    "        continue\n",
    "\n",
    "    return dictionary, dataset\n",
    "\n",
    "    \n",
    "# Turning a string into a tensor\n",
    "\n",
    "def char_tensor(string):\n",
    "    tensor = torch.zeros(len(string)).long()\n",
    "    for c in range(len(string)):\n",
    "        try:\n",
    "            tensor[c] = dictionary.index(string[c])\n",
    "        except:\n",
    "            continue\n",
    "    return tensor\n",
    "\n",
    "# Readable time elapsed\n",
    "\n",
    "def time_since(since):\n",
    "    s = time.time() - since\n",
    "    m = math.floor(s / 60)\n",
    "    s -= m * 60\n",
    "    return '%dm %ds' % (m, s)"
   ]
  },
  {
   "cell_type": "code",
   "execution_count": 3,
   "metadata": {},
   "outputs": [],
   "source": [
    "filename = \"shakespeare.txt\"\n",
    "text = read_file(filename)[0]\n",
    "dictionary, dataset = create_dictionary(text)\n"
   ]
  },
  {
   "cell_type": "code",
   "execution_count": 4,
   "metadata": {},
   "outputs": [],
   "source": [
    "class WordRNN(nn.Module):\n",
    "    def __init__(self, input_size, hidden_size, output_size, model=\"gru\", n_layers=1):\n",
    "        super(WordRNN, self).__init__()\n",
    "        self.model = model.lower()\n",
    "        self.input_size = input_size\n",
    "        self.hidden_size = hidden_size\n",
    "        self.output_size = output_size\n",
    "        self.n_layers = n_layers\n",
    "\n",
    "        self.encoder = nn.Embedding(input_size, hidden_size)\n",
    "        if self.model == \"gru\":\n",
    "            self.rnn = nn.GRU(hidden_size, hidden_size, n_layers)\n",
    "        elif self.model == \"lstm\":\n",
    "            self.rnn = nn.LSTM(hidden_size, hidden_size, n_layers)\n",
    "        self.decoder = nn.Linear(hidden_size, output_size)\n",
    "\n",
    "    def forward(self, input, hidden):\n",
    "        batch_size = input.size(0)\n",
    "        encoded = self.encoder(input)\n",
    "        output, hidden = self.rnn(encoded.view(1, batch_size, -1), hidden)\n",
    "        output = self.decoder(output.view(batch_size, -1))\n",
    "        return output, hidden\n",
    "\n",
    "    def forward2(self, input, hidden):\n",
    "        encoded = self.encoder(input.view(1, -1))\n",
    "        output, hidden = self.rnn(encoded.view(1, 1, -1), hidden)\n",
    "        output = self.decoder(output.view(1, -1))\n",
    "        return output, hidden\n",
    "\n",
    "    def init_hidden(self, batch_size):\n",
    "        if self.model == \"lstm\":\n",
    "            return (Variable(torch.zeros(self.n_layers, batch_size, self.hidden_size)),\n",
    "                    Variable(torch.zeros(self.n_layers, batch_size, self.hidden_size)))\n",
    "        return Variable(torch.zeros(self.n_layers, batch_size, self.hidden_size))"
   ]
  },
  {
   "cell_type": "code",
   "execution_count": 5,
   "metadata": {},
   "outputs": [],
   "source": [
    "# finds all whole words in the random chunk?\n",
    "def findChunk(start_index, chunk_len):\n",
    "    file_chunk = file[start_index:]\n",
    "    # print(\"len(file_chunk)\",len(file_chunk))\n",
    "    special_characters = [' ', ':', '\\n', ',', '.', '?', \"'\", ';', '!', '-', '&']\n",
    "    chunk = []\n",
    "    i = 0\n",
    "    j = 0\n",
    "\n",
    "    while len(chunk) <= chunk_len:\n",
    "    # for i in range(len(text)):\n",
    "        # print(\"i\",i)\n",
    "        char = file_chunk[i]\n",
    "        # print(\"char i\",char,i)\n",
    "        if char in special_characters:\n",
    "            word = file_chunk[j:i]\n",
    "            # print(\"if\",word)\n",
    "            if i == j:\n",
    "                word = file_chunk[j:i+1]\n",
    "                \n",
    "            if char in dictionary:\n",
    "                # print(\"found char:\",char)\n",
    "                chunk.append(char)\n",
    "                \n",
    "            if word in dictionary:\n",
    "                # print(\"found word:\",word)\n",
    "                chunk.append(word)\n",
    "            \n",
    "            j = i+1\n",
    "        i += 1\n",
    "        continue\n",
    "\n",
    "    if len(chunk) > chunk_len+1:\n",
    "        chunk.pop()\n",
    "\n",
    "    return chunk"
   ]
  },
  {
   "cell_type": "code",
   "execution_count": 6,
   "metadata": {},
   "outputs": [],
   "source": [
    "def random_training_set(chunk_len, batch_size):\n",
    "    inp = torch.LongTensor(batch_size, chunk_len)\n",
    "    target = torch.LongTensor(batch_size, chunk_len)\n",
    "    for bi in range(batch_size):\n",
    "        start_index = random.randint(0, file_len - chunk_len*10)\n",
    "        # end_index = start_index + chunk_len + 1\n",
    "        chunk = findChunk(start_index, chunk_len)\n",
    "        inp[bi] = char_tensor(chunk[:-1])\n",
    "        target[bi] = char_tensor(chunk[1:])\n",
    "    # print(\"inp\",inp)\n",
    "    # print(\"target\",target)\n",
    "    inp = Variable(inp)\n",
    "    target = Variable(target)\n",
    "    if cuda:\n",
    "        inp = inp.cuda()\n",
    "        target = target.cuda()\n",
    "    return inp, target\n",
    "\n",
    "def train(inp, target):\n",
    "    hidden = decoder.init_hidden(batch_size)\n",
    "    if cuda:\n",
    "        hidden = hidden.cuda()\n",
    "    decoder.zero_grad()\n",
    "    loss = 0\n",
    "\n",
    "    for c in range(chunk_len):\n",
    "    # for c in [0]:\n",
    "\n",
    "        # print (\"inp[:,c]:\", inp[:,c])\n",
    "        # print (\"hidden:\",hidden)\n",
    "\n",
    "        output, hidden = decoder(inp[:,c], hidden)\n",
    "        loss += criterion(output.view(batch_size, -1), target[:,c])\n",
    "\n",
    "    loss.backward()\n",
    "    decoder_optimizer.step()\n",
    "\n",
    "    return loss.data.item() / chunk_len\n",
    "\n",
    "def save():\n",
    "    save_filename = os.path.splitext(os.path.basename(filename))[0] + '.pt'\n",
    "    torch.save(decoder, save_filename)\n",
    "    print('Saved as %s' % save_filename)"
   ]
  },
  {
   "cell_type": "code",
   "execution_count": 14,
   "metadata": {},
   "outputs": [],
   "source": [
    "# def generate(decoder, prime_str='A', predict_len=100, temperature=0.8, cuda=False):\n",
    "#     hidden = decoder.init_hidden(1)\n",
    "#     prime_input = Variable(char_tensor(prime_str).unsqueeze(0))\n",
    "\n",
    "#     if cuda:\n",
    "#         hidden = hidden.cuda()\n",
    "#         prime_input = prime_input.cuda()\n",
    "#     predicted = prime_str\n",
    "\n",
    "#     # Use priming string to \"build up\" hidden state\n",
    "#     for p in range(len(prime_str) - 1):\n",
    "#         _, hidden = decoder(prime_input[:,p], hidden)\n",
    "        \n",
    "#     inp = prime_input[:,-1]\n",
    "    \n",
    "#     for p in range(predict_len):\n",
    "#         output, hidden = decoder(inp, hidden)\n",
    "        \n",
    "#         # Sample from the network as a multinomial distribution\n",
    "#         output_dist = output.data.view(-1).div(temperature).exp()\n",
    "#         top_i = torch.multinomial(output_dist, 1)[0]\n",
    "\n",
    "#         # Add predicted character to string and use as next input\n",
    "#         predicted_char = all_characters[top_i]\n",
    "#         predicted += predicted_char\n",
    "#         inp = Variable(char_tensor(predicted_char).unsqueeze(0))\n",
    "#         if cuda:\n",
    "#             inp = inp.cuda()\n",
    "\n",
    "#     return predicted"
   ]
  },
  {
   "cell_type": "code",
   "execution_count": 17,
   "metadata": {},
   "outputs": [],
   "source": [
    "def sentence_tensor(string):\n",
    "    word_tensor = []\n",
    "    special_characters = [' ', ':', '\\n', ',', '.', '?', \"'\", ';', '!', '-', '&']\n",
    "    j = 0\n",
    "    i = 0\n",
    "    while i < len(string):\n",
    "        char = string[i]\n",
    "        if char in special_characters:\n",
    "            word = 0\n",
    "            if i == j:\n",
    "                word = string[j:i+1]\n",
    "                wordInd = dictionary.index(word)\n",
    "                word_tensor.append(wordInd)\n",
    "            else:\n",
    "                word = string[j:i]\n",
    "                wordInd = dictionary.index(word)\n",
    "                charInd = dictionary.index(char)\n",
    "                word_tensor.append(wordInd)\n",
    "                word_tensor.append(charInd)\n",
    "            \n",
    "            j = i+1\n",
    "        i += 1\n",
    "    \n",
    "    if(j != i):\n",
    "        word = string[j:i+1]\n",
    "        wordInd = dictionary.index(word)\n",
    "        word_tensor.append(wordInd)\n",
    "    tensor = torch.tensor(word_tensor).long()\n",
    "    return tensor"
   ]
  },
  {
   "cell_type": "code",
   "execution_count": 27,
   "metadata": {},
   "outputs": [],
   "source": [
    "def generate(decoder, prime_str='A', predict_len=100, temperature=0.8, cuda=False):\n",
    "    hidden = decoder.init_hidden(1)\n",
    "    prime_input = Variable(sentence_tensor(prime_str).unsqueeze(1))\n",
    "    predicted = prime_str\n",
    "    \n",
    "    # Use priming string to \"build up\" hidden state\n",
    "    for p in range(len(prime_input) - 1):\n",
    "        inp = torch.unsqueeze(prime_input[p,:], dim=1)\n",
    "        out, hidden = decoder(inp, hidden)\n",
    "    \n",
    "    #hidden = (Variable(hidden[0].detach().to(device)), Variable(hidden[1].detach().to(device)))\n",
    "    \n",
    "    inp = torch.unsqueeze(prime_input[-1,:], dim=1)\n",
    "    \n",
    "    for p in range(predict_len):\n",
    "        output, hidden = decoder(inp, hidden)\n",
    "        \n",
    "        # Sample from the network as a multinomial distribution\n",
    "        output_dist = output.data.view(-1).div(temperature).exp()\n",
    "        top_i = torch.multinomial(output_dist, 1)[0]\n",
    "\n",
    "        # Add predicted character to string and use as next input\n",
    "        predicted_word = dictionary[top_i]\n",
    "        predicted += predicted_word\n",
    "        inp = Variable(sentence_tensor(predicted_word).unsqueeze(1))\n",
    "       \n",
    "        if cuda:\n",
    "            inp = inp.cuda()\n",
    "\n",
    "    return predicted"
   ]
  },
  {
   "cell_type": "code",
   "execution_count": 31,
   "metadata": {},
   "outputs": [],
   "source": [
    "# define args\n",
    "filename = \"shakespeare.txt\"\n",
    "n_epochs = 2000\n",
    "model = \"gru\"\n",
    "print_every = 100\n",
    "hidden_size = 50\n",
    "n_layers = 2\n",
    "learning_rate = 0.01\n",
    "chunk_len = 50\n",
    "batch_size = 100\n",
    "shuffle = True\n",
    "cuda = False\n",
    "\n",
    "n_characters = len(dictionary)\n",
    "\n",
    "file, file_len = read_file(filename)\n",
    "\n",
    "# Initialize models and start training\n",
    "decoder = WordRNN(\n",
    "    n_characters,\n",
    "    hidden_size,\n",
    "    n_characters,\n",
    "    model=model,\n",
    "    n_layers=n_layers,\n",
    ")\n",
    "decoder_optimizer = torch.optim.Adam(decoder.parameters(), lr=learning_rate)\n",
    "criterion = nn.CrossEntropyLoss()\n"
   ]
  },
  {
   "cell_type": "code",
   "execution_count": 32,
   "metadata": {},
   "outputs": [
    {
     "name": "stdout",
     "output_type": "stream",
     "text": [
      "Training for 2000 epochs...\n"
     ]
    },
    {
     "name": "stderr",
     "output_type": "stream",
     "text": [
      "  5%|▌         | 100/2000 [02:25<46:12,  1.46s/it]"
     ]
    },
    {
     "name": "stdout",
     "output_type": "stream",
     "text": [
      "[2m 25s (100 5%) 4.2922]\n",
      "Whofasts \n",
      "medo \n",
      " to  \n",
      " ' :,'     thy  \n",
      " ' \n",
      "   Bianca\n",
      "\n",
      " ' tread  ours ,   :thee \n",
      " : \n",
      "     \n",
      "    '  :\n",
      "  'slander allPOLIXENES \n",
      "       ,\n",
      "  will   \n",
      "\n",
      " \n",
      " \n",
      "\n"
     ]
    },
    {
     "name": "stderr",
     "output_type": "stream",
     "text": [
      " 10%|█         | 200/2000 [04:48<45:15,  1.51s/it]"
     ]
    },
    {
     "name": "stdout",
     "output_type": "stream",
     "text": [
      "[4m 48s (200 10%) 3.8726]\n",
      "WhocousinmatchesclimeSlanderingstill:\n",
      "I\n",
      "\n",
      "\n",
      "\n",
      "\n",
      "\n",
      "he\n",
      "   with \n",
      "    offront  \n",
      "\n",
      " ' Than  ,        the    too' ?\n",
      " I,to\n",
      "  ,    I \n",
      "     . to,     the,do the'here \n",
      "      \n",
      "\n"
     ]
    },
    {
     "name": "stderr",
     "output_type": "stream",
     "text": [
      " 15%|█▌        | 300/2000 [07:12<41:15,  1.46s/it]"
     ]
    },
    {
     "name": "stdout",
     "output_type": "stream",
     "text": [
      "[7m 12s (300 15%) 3.5170]\n",
      "WhowaspishmusclesjudgmentSeeree   my not all.\n",
      "\n",
      "\n",
      " And is  'great the the my   come do I been is,boy   the with sir my the mind for\n",
      "\n",
      "in my and they and shall of will Strong are,\n",
      "   TYBALT of to   that a  \n",
      "\n"
     ]
    },
    {
     "name": "stderr",
     "output_type": "stream",
     "text": [
      " 20%|██        | 400/2000 [09:35<38:41,  1.45s/it]"
     ]
    },
    {
     "name": "stdout",
     "output_type": "stream",
     "text": [
      "[9m 35s (400 20%) 3.3910]\n",
      "WhoEdmundripestachingprecursorsunsaluteddiscontentedsickerspeak\n",
      " And to;love\n",
      "\n",
      "And\n",
      "\n",
      "\n",
      "disturb\n",
      "\n",
      "  now common to the come are the their have and up the of, and I the;and   s from me foe so,lady\n",
      "\n",
      "\n",
      " \n",
      "\n",
      "Rush By save a Marcius the his thee a his  \n",
      "\n"
     ]
    },
    {
     "name": "stderr",
     "output_type": "stream",
     "text": [
      " 25%|██▌       | 500/2000 [11:57<36:37,  1.46s/it]"
     ]
    },
    {
     "name": "stdout",
     "output_type": "stream",
     "text": [
      "[11m 57s (500 25%) 3.3382]\n",
      "WhorGrimmaltPreferwanedstricturetoo\n",
      "   and,glittering   are Could !   for you,,   of on s how of be,gates\n",
      "\n",
      "\n",
      "But   offence faint the your'our.\n",
      "\n",
      "\n",
      "   me hast heart accusation and good::\n",
      "   recompense a'::\n",
      "\n",
      " is the., \n",
      "\n"
     ]
    },
    {
     "name": "stderr",
     "output_type": "stream",
     "text": [
      " 30%|███       | 600/2000 [14:20<33:59,  1.46s/it]"
     ]
    },
    {
     "name": "stdout",
     "output_type": "stream",
     "text": [
      "[14m 20s (600 30%) 3.2159]\n",
      "Whononabreastellhegibere e,\n",
      "\n",
      "   upon to and s his me at. \n",
      "to d at how of her their.- To,nature\n",
      "\n",
      "A\n",
      "\n",
      "\n",
      "\n",
      "-\n",
      "\n",
      "\n",
      "\n",
      " Which mortal the him of the   to of I beseech.no\n",
      "gods\n",
      "\n",
      "\n",
      "\n",
      " pardon his not affairs  \n",
      "\n"
     ]
    },
    {
     "name": "stderr",
     "output_type": "stream",
     "text": [
      " 35%|███▌      | 700/2000 [16:43<31:09,  1.44s/it]"
     ]
    },
    {
     "name": "stdout",
     "output_type": "stream",
     "text": [
      "[16m 43s (700 35%) 3.2054]\n",
      "WholowlyGalliaSilversprightfullycoxcombsveLombardyobsequiousremorselessee\n",
      "\n",
      "\n",
      "\n",
      "\n",
      "\n",
      "\n",
      ":\n",
      "\n",
      "\n",
      "-\n",
      "\n",
      "\n",
      "\n",
      " I not have,hell   Edward for some  !night\n",
      "\n",
      " Nay then of OF:man\n",
      "\n",
      " One thy ,leave   me OF here that so it,YORK\n",
      ": found a,:\n",
      "  ,sir    \n",
      "\n"
     ]
    },
    {
     "name": "stderr",
     "output_type": "stream",
     "text": [
      " 40%|████      | 800/2000 [19:03<28:36,  1.43s/it]"
     ]
    },
    {
     "name": "stdout",
     "output_type": "stream",
     "text": [
      "[19m 3s (800 40%) 3.1548]\n",
      "Whoendingrr cousin in and hath your thee of the :place\n",
      "\n",
      " as is the as the:away   keep Real.not\n",
      "\n",
      "\n",
      "\n",
      "\n",
      "\n",
      "::\n",
      "\n",
      "\n",
      "\n",
      "\n",
      "\n",
      "\n",
      "\n",
      "\n",
      " O service kill I,king   but,ARIEL\n",
      "\n",
      "   cunning thee not,regal\n",
      "\n",
      "\n",
      ":\n",
      "\n",
      "\n",
      " No voice \n",
      "\n"
     ]
    },
    {
     "name": "stderr",
     "output_type": "stream",
     "text": [
      " 45%|████▌     | 900/2000 [21:22<26:14,  1.43s/it]"
     ]
    },
    {
     "name": "stdout",
     "output_type": "stream",
     "text": [
      "[21m 22s (900 45%) 3.0513]\n",
      "WhopilgrimsHewgatheringrrcrosslycurrantsrn  ;white\n",
      "\n",
      "\n",
      "For\n",
      "\n",
      "\n",
      " When we to at will an son the,free\n",
      "\n",
      "\n",
      " To after and the,youngest   thou shall his together upon what resolution the veins to for;king\n",
      "\n",
      " I the sovereignty d that title for to the face  \n",
      "\n"
     ]
    },
    {
     "name": "stderr",
     "output_type": "stream",
     "text": [
      " 50%|█████     | 1000/2000 [23:42<23:46,  1.43s/it]"
     ]
    },
    {
     "name": "stdout",
     "output_type": "stream",
     "text": [
      "[23m 42s (1000 50%) 3.0799]\n",
      "WhoMightwritingminionstragicalattendantfrivolousr   of,me   the jealousies have are make Till death our\n",
      "not That to not not can of.dry\n",
      "\n",
      "\n",
      "\n",
      "\n",
      ":\n",
      "\n",
      "\n",
      "ISABELLA\n",
      "\n",
      "O  !SICINIUS\n",
      "\n",
      " How been to and I service thou hold the son a'hundred ?word\n",
      "\n",
      "\n",
      "\n",
      "'I  \n",
      "\n"
     ]
    },
    {
     "name": "stderr",
     "output_type": "stream",
     "text": [
      " 55%|█████▌    | 1100/2000 [26:00<20:56,  1.40s/it]"
     ]
    },
    {
     "name": "stdout",
     "output_type": "stream",
     "text": [
      "[26m 0s (1100 55%) 2.9432]\n",
      "WhogrindattentionUpbraiddestroyerrudesbydicedildosLoseellmlermrn as as,me   my so I one as have\n",
      "ever That aged should the country to of say be to the virtuous.brother\n",
      "\n",
      " Did as from them,of   to discontented veil among and:marquess\n",
      "\n",
      " That take to a  \n",
      "\n"
     ]
    },
    {
     "name": "stderr",
     "output_type": "stream",
     "text": [
      " 60%|██████    | 1200/2000 [28:18<18:53,  1.42s/it]"
     ]
    },
    {
     "name": "stdout",
     "output_type": "stream",
     "text": [
      "[28m 18s (1200 60%) 3.0418]\n",
      "Whoetfeelsapoplexye\n",
      "\n",
      ":hands\n",
      "\n",
      " A fence is so,mother   we I his,bones\n",
      "\n",
      " Were do with Clarence to,elder\n",
      "\n",
      "Such   and eyes that are thy pronounce may they,let\n",
      "\n",
      " For a ear thy thou parts that forgot.WARWICK\n",
      "\n",
      "\n",
      "\n",
      "  ,and   do  \n",
      "\n"
     ]
    },
    {
     "name": "stderr",
     "output_type": "stream",
     "text": [
      " 65%|██████▌   | 1300/2000 [30:37<16:28,  1.41s/it]"
     ]
    },
    {
     "name": "stdout",
     "output_type": "stream",
     "text": [
      "[30m 37s (1300 65%) 2.9941]\n",
      "Whodistributechoose  OF.repair\n",
      "\n",
      "\n",
      "\n",
      ":GLOUCESTER\n",
      "\n",
      " O!, ' s fought it his:lord\n",
      "\n",
      "  is my,friar   my love.MERCUTIO\n",
      "\n",
      ":III\n",
      "\n",
      "\n",
      "\n",
      " For to to O,your  -hath for bargain good?lord\n",
      "\n",
      "\n",
      "\n",
      " Tell;joy   that wedded the'lords s shame \n",
      "\n"
     ]
    },
    {
     "name": "stderr",
     "output_type": "stream",
     "text": [
      " 70%|███████   | 1400/2000 [32:55<14:03,  1.41s/it]"
     ]
    },
    {
     "name": "stdout",
     "output_type": "stream",
     "text": [
      "[32m 55s (1400 70%) 2.9996]\n",
      "WhoransomedmasquingLongemrn tisscathee.laugh\n",
      "\n",
      "\n",
      "\n",
      "  OF:virtuous\n",
      "\n",
      " Most writ and a love of of,enter\n",
      "\n",
      " The life my\n",
      "amazement Have that tell do me in as,hold\n",
      "\n",
      "  with of Romeo my,me\n",
      "\n",
      "  ?ways\n",
      "\n",
      "\n",
      "\n",
      " He OF:II\n",
      "\n",
      " I  \n",
      "\n"
     ]
    },
    {
     "name": "stderr",
     "output_type": "stream",
     "text": [
      " 75%|███████▌  | 1500/2000 [35:13<11:44,  1.41s/it]"
     ]
    },
    {
     "name": "stdout",
     "output_type": "stream",
     "text": [
      "[35m 13s (1500 75%) 2.9709]\n",
      "WhoploughOrestUpbraidmquiveringnagebrineadbutcheryadrr ;thee   the thine private,horseman   and his broth my\n",
      "again To will I the.hour'   abet sums than lour\n",
      "have had now the \n",
      "them Hath you on the heard,this\n",
      "\n",
      " make and are my \n",
      "pearl In,would \n",
      "\n"
     ]
    },
    {
     "name": "stderr",
     "output_type": "stream",
     "text": [
      " 80%|████████  | 1600/2000 [37:32<09:24,  1.41s/it]"
     ]
    },
    {
     "name": "stdout",
     "output_type": "stream",
     "text": [
      "[37m 32s (1600 80%) 2.9351]\n",
      "Whosiegemindlessgreatestshearersetpailr\n",
      "r Shall Grindstone they here thy.heat   I chance of\n",
      "falling And set I gainst then Is slender,manner\n",
      "\n",
      " To dangerous I thou his privilege will of\n",
      "sovereignty and tombs.dainty\n",
      "\n",
      "\n",
      "\n",
      " Second:CLIFFORD\n",
      "\n",
      " I Tis you Tis the ,best\n",
      "\n",
      " And \n",
      "\n"
     ]
    },
    {
     "name": "stderr",
     "output_type": "stream",
     "text": [
      " 85%|████████▌ | 1700/2000 [39:50<07:02,  1.41s/it]"
     ]
    },
    {
     "name": "stdout",
     "output_type": "stream",
     "text": [
      "[39m 50s (1700 85%) 2.9196]\n",
      "Whoechoadornedunreasonableslyhowlingperfidiousacts ,\n",
      "\n",
      " He me the horror late'foreign\n",
      "do O I have not lips'order .justice\n",
      "\n",
      "\n",
      "\n",
      " Second.waters\n",
      "\n",
      "\n",
      "\n",
      ":BOLINGBROKE\n",
      "\n",
      " Go the Page\n",
      "apron   Richmond my.crown\n",
      "\n",
      "\n",
      "\n",
      " No ,king   our old:MARCIUS\n",
      "\n",
      " But the hundred prithee  \n",
      "\n"
     ]
    },
    {
     "name": "stderr",
     "output_type": "stream",
     "text": [
      " 90%|█████████ | 1800/2000 [42:08<04:39,  1.40s/it]"
     ]
    },
    {
     "name": "stdout",
     "output_type": "stream",
     "text": [
      "[42m 8s (1800 90%) 2.8636]\n",
      "WhoForerunninggossipadplayingchidersrd How had out is from the king yet his body these a;day\n",
      "\n",
      " Than with from to but in life mirthful or!place\n",
      "\n",
      " To their again be I'heir   of a.dissemblers\n",
      "\n",
      "\n",
      "\n",
      ":Servant\n",
      "\n",
      "And\n",
      "\n",
      "  Ay Clarence a gods you  \n",
      "\n"
     ]
    },
    {
     "name": "stderr",
     "output_type": "stream",
     "text": [
      " 95%|█████████▌| 1900/2000 [44:26<02:21,  1.42s/it]"
     ]
    },
    {
     "name": "stdout",
     "output_type": "stream",
     "text": [
      "[44m 26s (1900 95%) 2.8558]\n",
      "WhoInfusingmcerlawnsr  for me and.you\n",
      "\n",
      "\n",
      "\n",
      "\n",
      "\n",
      ":MENENIUS\n",
      "\n",
      " I Tis sit to be of my'man s,lord\n",
      "\n",
      " Your if with wilt behind am his :queen\n",
      "\n",
      " KING and is and,lord\n",
      "\n",
      " And have by thou they take in to my;VINCENTIO\n",
      "\n",
      " \n",
      "\n"
     ]
    },
    {
     "name": "stderr",
     "output_type": "stream",
     "text": [
      "100%|██████████| 2000/2000 [46:44<00:00,  1.40s/it]"
     ]
    },
    {
     "name": "stdout",
     "output_type": "stream",
     "text": [
      "[46m 44s (2000 100%) 2.8593]\n",
      "WhoclapsseizedBegcreaturesbehalfsRheimswhosoravenousgainst .d\n",
      "\n",
      "\n",
      "\n",
      ":LUCENTIO\n",
      "\n",
      " I,ll   to,will   made to as but to,more\n",
      "\n",
      " From the ,hast   it the\n",
      "day  and but of to,served\n",
      "\n",
      " And,if   in then to,go   but they,thou  \n",
      "I \n",
      "\n",
      "Saving...\n",
      "Saved as shakespeare.pt\n"
     ]
    },
    {
     "name": "stderr",
     "output_type": "stream",
     "text": [
      "\n"
     ]
    },
    {
     "data": {
      "image/png": "[encoded data removed]",
      "text/plain": [
       "<Figure size 432x288 with 1 Axes>"
      ]
     },
     "metadata": {
      "needs_background": "light"
     },
     "output_type": "display_data"
    }
   ],
   "source": [
    "\n",
    "if cuda:\n",
    "    decoder.cuda()\n",
    "\n",
    "start = time.time()\n",
    "all_losses = []\n",
    "loss_avg = 0\n",
    "\n",
    "perplexities = []\n",
    "\n",
    "try:\n",
    "    print(\"Training for %d epochs...\" % n_epochs)\n",
    "    for epoch in tqdm(range(1, n_epochs + 1)):\n",
    "        loss = train(*random_training_set(chunk_len, batch_size))\n",
    "        loss_avg += loss\n",
    "        perplexities.append(math.exp(loss))\n",
    "\n",
    "        if epoch % print_every == 0:\n",
    "            print('[%s (%d %d%%) %.4f]' % (time_since(start), epoch, epoch / n_epochs * 100, loss))\n",
    "            print(generate(decoder, 'Who', 100, cuda=cuda), '\\n')\n",
    "\n",
    "    print(\"Saving...\")\n",
    "    save()\n",
    "\n",
    "except KeyboardInterrupt:\n",
    "    print(\"Saving before quit...\")\n",
    "    save()\n",
    "\n",
    "\n",
    "plt.plot(perplexities)\n",
    "plt.ylabel('Perplexity')\n",
    "plt.xlabel('Epoch')\n",
    "plt.show()"
   ]
  },
  {
   "cell_type": "code",
   "execution_count": 33,
   "metadata": {},
   "outputs": [
    {
     "data": {
      "image/png": "[encoded data removed]",
      "text/plain": [
       "<Figure size 432x288 with 1 Axes>"
      ]
     },
     "metadata": {
      "needs_background": "light"
     },
     "output_type": "display_data"
    }
   ],
   "source": [
    "# if we ignore some of the first epochs we get a much clearer graph\n",
    "plt.plot(perplexities[10:])\n",
    "plt.ylabel('Perplexity')\n",
    "plt.xlabel('Epoch')\n",
    "plt.show()"
   ]
  },
  {
   "cell_type": "code",
   "execution_count": 36,
   "metadata": {},
   "outputs": [],
   "source": [
    "import string\n",
    "import random\n",
    "\n",
    "def randomString(len):\n",
    "    s = \"\"\n",
    "    for i in range(len):\n",
    "        s = s + random.choice(string.printable)\n",
    "    return s"
   ]
  },
  {
   "cell_type": "code",
   "execution_count": 78,
   "metadata": {},
   "outputs": [],
   "source": [
    "decoder = torch.load(\"shakespeare.pt\")\n",
    "\n",
    "with open('task4_the.txt', 'w') as f:\n",
    "    for i in range(3):\n",
    "        prime_string = \"The\"\n",
    "        f.write(\"====== Prime string: \" +prime_string + \" ======\\n\")\n",
    "        f.write(generate(decoder, prime_str=prime_string))\n",
    "        f.write(\"\\n\\n\")"
   ]
  },
  {
   "cell_type": "code",
   "execution_count": 79,
   "metadata": {},
   "outputs": [],
   "source": [
    "with open('task4_dot.txt', 'w') as f:\n",
    "    for i in range(3):\n",
    "        prime_string = \".\"\n",
    "        f.write(\"====== Prime string: \" + prime_string +\" ======\\n\")\n",
    "        f.write(generate(decoder, prime_str=prime_string))\n",
    "        f.write(\"\\n\\n\")"
   ]
  },
  {
   "cell_type": "code",
   "execution_count": 80,
   "metadata": {},
   "outputs": [],
   "source": [
    "with open('task4_which.txt', 'w') as f:\n",
    "    for i in range(3):\n",
    "        prime_string = \"which is,\"\n",
    "        f.write(\"====== Prime string: \" + prime_string +\" ======\\n\")\n",
    "        f.write(generate(decoder, prime_str=prime_string))\n",
    "        f.write(\"\\n\\n\")"
   ]
  },
  {
   "cell_type": "code",
   "execution_count": 81,
   "metadata": {},
   "outputs": [
    {
     "ename": "ValueError",
     "evalue": "'blah' is not in list",
     "output_type": "error",
     "traceback": [
      "\u001b[1;31m---------------------------------------------------------------------------\u001b[0m",
      "\u001b[1;31mValueError\u001b[0m                                Traceback (most recent call last)",
      "\u001b[1;32m~\\AppData\\Local\\Temp\\ipykernel_23780\\262529488.py\u001b[0m in \u001b[0;36m<module>\u001b[1;34m\u001b[0m\n\u001b[0;32m      3\u001b[0m         \u001b[0mprime_string\u001b[0m \u001b[1;33m=\u001b[0m \u001b[1;34m\"blah blah blah\"\u001b[0m\u001b[1;33m\u001b[0m\u001b[1;33m\u001b[0m\u001b[0m\n\u001b[0;32m      4\u001b[0m         \u001b[0mf\u001b[0m\u001b[1;33m.\u001b[0m\u001b[0mwrite\u001b[0m\u001b[1;33m(\u001b[0m\u001b[1;34m\"====== Prime string: \"\u001b[0m\u001b[1;33m+\u001b[0m \u001b[0mprime_string\u001b[0m \u001b[1;33m+\u001b[0m \u001b[1;34m\" ======\\n\"\u001b[0m\u001b[1;33m)\u001b[0m\u001b[1;33m\u001b[0m\u001b[1;33m\u001b[0m\u001b[0m\n\u001b[1;32m----> 5\u001b[1;33m         \u001b[0mf\u001b[0m\u001b[1;33m.\u001b[0m\u001b[0mwrite\u001b[0m\u001b[1;33m(\u001b[0m\u001b[0mgenerate\u001b[0m\u001b[1;33m(\u001b[0m\u001b[0mdecoder\u001b[0m\u001b[1;33m,\u001b[0m \u001b[0mprime_str\u001b[0m\u001b[1;33m=\u001b[0m\u001b[0mprime_string\u001b[0m\u001b[1;33m)\u001b[0m\u001b[1;33m)\u001b[0m\u001b[1;33m\u001b[0m\u001b[1;33m\u001b[0m\u001b[0m\n\u001b[0m\u001b[0;32m      6\u001b[0m         \u001b[0mf\u001b[0m\u001b[1;33m.\u001b[0m\u001b[0mwrite\u001b[0m\u001b[1;33m(\u001b[0m\u001b[1;34m\"\\n\\n\"\u001b[0m\u001b[1;33m)\u001b[0m\u001b[1;33m\u001b[0m\u001b[1;33m\u001b[0m\u001b[0m\n",
      "\u001b[1;32m~\\AppData\\Local\\Temp\\ipykernel_23780\\3362474957.py\u001b[0m in \u001b[0;36mgenerate\u001b[1;34m(decoder, prime_str, predict_len, temperature, cuda)\u001b[0m\n\u001b[0;32m      1\u001b[0m \u001b[1;32mdef\u001b[0m \u001b[0mgenerate\u001b[0m\u001b[1;33m(\u001b[0m\u001b[0mdecoder\u001b[0m\u001b[1;33m,\u001b[0m \u001b[0mprime_str\u001b[0m\u001b[1;33m=\u001b[0m\u001b[1;34m'A'\u001b[0m\u001b[1;33m,\u001b[0m \u001b[0mpredict_len\u001b[0m\u001b[1;33m=\u001b[0m\u001b[1;36m100\u001b[0m\u001b[1;33m,\u001b[0m \u001b[0mtemperature\u001b[0m\u001b[1;33m=\u001b[0m\u001b[1;36m0.8\u001b[0m\u001b[1;33m,\u001b[0m \u001b[0mcuda\u001b[0m\u001b[1;33m=\u001b[0m\u001b[1;32mFalse\u001b[0m\u001b[1;33m)\u001b[0m\u001b[1;33m:\u001b[0m\u001b[1;33m\u001b[0m\u001b[1;33m\u001b[0m\u001b[0m\n\u001b[0;32m      2\u001b[0m     \u001b[0mhidden\u001b[0m \u001b[1;33m=\u001b[0m \u001b[0mdecoder\u001b[0m\u001b[1;33m.\u001b[0m\u001b[0minit_hidden\u001b[0m\u001b[1;33m(\u001b[0m\u001b[1;36m1\u001b[0m\u001b[1;33m)\u001b[0m\u001b[1;33m\u001b[0m\u001b[1;33m\u001b[0m\u001b[0m\n\u001b[1;32m----> 3\u001b[1;33m     \u001b[0mprime_input\u001b[0m \u001b[1;33m=\u001b[0m \u001b[0mVariable\u001b[0m\u001b[1;33m(\u001b[0m\u001b[0msentence_tensor\u001b[0m\u001b[1;33m(\u001b[0m\u001b[0mprime_str\u001b[0m\u001b[1;33m)\u001b[0m\u001b[1;33m.\u001b[0m\u001b[0munsqueeze\u001b[0m\u001b[1;33m(\u001b[0m\u001b[1;36m1\u001b[0m\u001b[1;33m)\u001b[0m\u001b[1;33m)\u001b[0m\u001b[1;33m\u001b[0m\u001b[1;33m\u001b[0m\u001b[0m\n\u001b[0m\u001b[0;32m      4\u001b[0m     \u001b[0mpredicted\u001b[0m \u001b[1;33m=\u001b[0m \u001b[0mprime_str\u001b[0m\u001b[1;33m\u001b[0m\u001b[1;33m\u001b[0m\u001b[0m\n\u001b[0;32m      5\u001b[0m \u001b[1;33m\u001b[0m\u001b[0m\n",
      "\u001b[1;32m~\\AppData\\Local\\Temp\\ipykernel_23780\\2393923773.py\u001b[0m in \u001b[0;36msentence_tensor\u001b[1;34m(string)\u001b[0m\n\u001b[0;32m     14\u001b[0m             \u001b[1;32melse\u001b[0m\u001b[1;33m:\u001b[0m\u001b[1;33m\u001b[0m\u001b[1;33m\u001b[0m\u001b[0m\n\u001b[0;32m     15\u001b[0m                 \u001b[0mword\u001b[0m \u001b[1;33m=\u001b[0m \u001b[0mstring\u001b[0m\u001b[1;33m[\u001b[0m\u001b[0mj\u001b[0m\u001b[1;33m:\u001b[0m\u001b[0mi\u001b[0m\u001b[1;33m]\u001b[0m\u001b[1;33m\u001b[0m\u001b[1;33m\u001b[0m\u001b[0m\n\u001b[1;32m---> 16\u001b[1;33m                 \u001b[0mwordInd\u001b[0m \u001b[1;33m=\u001b[0m \u001b[0mdictionary\u001b[0m\u001b[1;33m.\u001b[0m\u001b[0mindex\u001b[0m\u001b[1;33m(\u001b[0m\u001b[0mword\u001b[0m\u001b[1;33m)\u001b[0m\u001b[1;33m\u001b[0m\u001b[1;33m\u001b[0m\u001b[0m\n\u001b[0m\u001b[0;32m     17\u001b[0m                 \u001b[0mcharInd\u001b[0m \u001b[1;33m=\u001b[0m \u001b[0mdictionary\u001b[0m\u001b[1;33m.\u001b[0m\u001b[0mindex\u001b[0m\u001b[1;33m(\u001b[0m\u001b[0mchar\u001b[0m\u001b[1;33m)\u001b[0m\u001b[1;33m\u001b[0m\u001b[1;33m\u001b[0m\u001b[0m\n\u001b[0;32m     18\u001b[0m                 \u001b[0mword_tensor\u001b[0m\u001b[1;33m.\u001b[0m\u001b[0mappend\u001b[0m\u001b[1;33m(\u001b[0m\u001b[0mwordInd\u001b[0m\u001b[1;33m)\u001b[0m\u001b[1;33m\u001b[0m\u001b[1;33m\u001b[0m\u001b[0m\n",
      "\u001b[1;31mValueError\u001b[0m: 'blah' is not in list"
     ]
    }
   ],
   "source": [
    "with open('task4_blah.txt', 'w') as f:\n",
    "    for i in range(3):\n",
    "        prime_string = \"blah blah blah\"\n",
    "        f.write(\"====== Prime string: \"+ prime_string + \" ======\\n\")\n",
    "        f.write(generate(decoder, prime_str=prime_string))\n",
    "        f.write(\"\\n\\n\")"
   ]
  },
  {
   "cell_type": "code",
   "execution_count": null,
   "metadata": {},
   "outputs": [],
   "source": []
  }
 ],
 "metadata": {
  "interpreter": {
   "hash": "ffb6baedebf6957ac36c66a06d806fe87b8bfbad768888f61612b8fcf4c95baf"
  },
  "kernelspec": {
   "display_name": "Python 3.7.6 64-bit",
   "language": "python",
   "name": "python3"
  },
  "language_info": {
   "codemirror_mode": {
    "name": "ipython",
    "version": 3
   },
   "file_extension": ".py",
   "mimetype": "text/x-python",
   "name": "python",
   "nbconvert_exporter": "python",
   "pygments_lexer": "ipython3",
   "version": "3.7.6"
  },
  "orig_nbformat": 4
 },
 "nbformat": 4,
 "nbformat_minor": 2
}
